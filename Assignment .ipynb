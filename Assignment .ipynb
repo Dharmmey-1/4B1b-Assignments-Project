{
 "cells": [
  {
   "cell_type": "code",
   "execution_count": null,
   "id": "ecological-librarian",
   "metadata": {},
   "outputs": [],
   "source": [
    "## CONCATENATION OF LOT OF DATA FOLDER INTO ONE DATAFRAME"
   ]
  },
  {
   "cell_type": "code",
   "execution_count": 46,
   "id": "usual-october",
   "metadata": {
    "ExecuteTime": {
     "end_time": "2021-05-08T15:24:25.006097Z",
     "start_time": "2021-05-08T15:24:24.988147Z"
    }
   },
   "outputs": [],
   "source": [
    "import pandas as pd "
   ]
  },
  {
   "cell_type": "code",
   "execution_count": 47,
   "id": "universal-sight",
   "metadata": {
    "ExecuteTime": {
     "end_time": "2021-05-08T15:32:16.671751Z",
     "start_time": "2021-05-08T15:32:08.126874Z"
    }
   },
   "outputs": [],
   "source": [
    "all_files = []\n",
    "\n",
    "for b in range(1, 333):\n",
    "    if b >= 100:\n",
    "        all_files.append(pd.read_csv(f\"/Users/Nathaniel_inc/Documents/DreyB53/lotofdata/{b}.csv\"))\n",
    "    elif b >= 10:\n",
    "        all_files.append(pd.read_csv(f\"/Users/Nathaniel_inc/Documents/DreyB53/lotofdata/0{b}.csv\"))\n",
    "    else:\n",
    "        all_files.append(pd.read_csv(f\"/Users/Nathaniel_inc/Documents/DreyB53/lotofdata/00{b}.csv\"))"
   ]
  },
  {
   "cell_type": "code",
   "execution_count": 48,
   "id": "acceptable-middle",
   "metadata": {
    "ExecuteTime": {
     "end_time": "2021-05-08T15:33:32.462543Z",
     "start_time": "2021-05-08T15:33:32.367312Z"
    }
   },
   "outputs": [],
   "source": [
    "concatntd_file = pd.concat(all_files, axis=0, ignore_index=True)"
   ]
  },
  {
   "cell_type": "code",
   "execution_count": 49,
   "id": "resident-discussion",
   "metadata": {
    "ExecuteTime": {
     "end_time": "2021-05-08T15:33:54.061008Z",
     "start_time": "2021-05-08T15:33:53.935832Z"
    }
   },
   "outputs": [
    {
     "name": "stdout",
     "output_type": "stream",
     "text": [
      "<class 'pandas.core.frame.DataFrame'>\n",
      "RangeIndex: 772087 entries, 0 to 772086\n",
      "Data columns (total 4 columns):\n",
      " #   Column   Non-Null Count   Dtype  \n",
      "---  ------   --------------   -----  \n",
      " 0   Date     772087 non-null  object \n",
      " 1   sulfate  118783 non-null  float64\n",
      " 2   nitrate  114349 non-null  float64\n",
      " 3   ID       772087 non-null  int64  \n",
      "dtypes: float64(2), int64(1), object(1)\n",
      "memory usage: 20.6+ MB\n"
     ]
    }
   ],
   "source": [
    "concatntd_file.info()"
   ]
  },
  {
   "cell_type": "code",
   "execution_count": null,
   "id": "internal-sharing",
   "metadata": {},
   "outputs": [],
   "source": []
  },
  {
   "cell_type": "code",
   "execution_count": null,
   "id": "complimentary-parallel",
   "metadata": {},
   "outputs": [],
   "source": [
    "##ASSINGMENT 11"
   ]
  },
  {
   "cell_type": "code",
   "execution_count": 1,
   "id": "greatest-automation",
   "metadata": {
    "ExecuteTime": {
     "end_time": "2021-05-08T12:52:57.734601Z",
     "start_time": "2021-05-08T12:52:53.810596Z"
    }
   },
   "outputs": [],
   "source": [
    "import numpy as np\n",
    "import pandas as pd"
   ]
  },
  {
   "cell_type": "code",
   "execution_count": 2,
   "id": "accurate-nurse",
   "metadata": {
    "ExecuteTime": {
     "end_time": "2021-05-08T12:52:57.873352Z",
     "start_time": "2021-05-08T12:52:57.751361Z"
    }
   },
   "outputs": [
    {
     "data": {
      "text/html": [
       "<div>\n",
       "<style scoped>\n",
       "    .dataframe tbody tr th:only-of-type {\n",
       "        vertical-align: middle;\n",
       "    }\n",
       "\n",
       "    .dataframe tbody tr th {\n",
       "        vertical-align: top;\n",
       "    }\n",
       "\n",
       "    .dataframe thead th {\n",
       "        text-align: right;\n",
       "    }\n",
       "</style>\n",
       "<table border=\"1\" class=\"dataframe\">\n",
       "  <thead>\n",
       "    <tr style=\"text-align: right;\">\n",
       "      <th></th>\n",
       "      <th>customerID</th>\n",
       "      <th>loanId</th>\n",
       "      <th>applicationDate</th>\n",
       "      <th>LoanNumber</th>\n",
       "      <th>LoanAmount</th>\n",
       "      <th>InterestRate</th>\n",
       "      <th>TermDays</th>\n",
       "      <th>repaymentDueDate</th>\n",
       "      <th>repaymentPaidDate</th>\n",
       "    </tr>\n",
       "  </thead>\n",
       "  <tbody>\n",
       "    <tr>\n",
       "      <th>0</th>\n",
       "      <td>839247458</td>\n",
       "      <td>3.02953E+11</td>\n",
       "      <td>12/21/2018</td>\n",
       "      <td>1</td>\n",
       "      <td>7500</td>\n",
       "      <td>30.0</td>\n",
       "      <td>30</td>\n",
       "      <td>1/20/2019</td>\n",
       "      <td>1/16/2019</td>\n",
       "    </tr>\n",
       "    <tr>\n",
       "      <th>1</th>\n",
       "      <td>217540860</td>\n",
       "      <td>3.0296E+11</td>\n",
       "      <td>12/23/2018</td>\n",
       "      <td>1</td>\n",
       "      <td>7500</td>\n",
       "      <td>30.0</td>\n",
       "      <td>30</td>\n",
       "      <td>1/22/2019</td>\n",
       "      <td>12/29/2018</td>\n",
       "    </tr>\n",
       "    <tr>\n",
       "      <th>2</th>\n",
       "      <td>522238092</td>\n",
       "      <td>3.03017E+11</td>\n",
       "      <td>1/8/2019</td>\n",
       "      <td>1</td>\n",
       "      <td>7500</td>\n",
       "      <td>30.0</td>\n",
       "      <td>30</td>\n",
       "      <td>2/7/2019</td>\n",
       "      <td>1/8/2019</td>\n",
       "    </tr>\n",
       "    <tr>\n",
       "      <th>3</th>\n",
       "      <td>96754469</td>\n",
       "      <td>3.03E+11</td>\n",
       "      <td>1/4/2019</td>\n",
       "      <td>1</td>\n",
       "      <td>7500</td>\n",
       "      <td>30.0</td>\n",
       "      <td>30</td>\n",
       "      <td>2/3/2019</td>\n",
       "      <td>1/8/2019</td>\n",
       "    </tr>\n",
       "    <tr>\n",
       "      <th>4</th>\n",
       "      <td>410354345</td>\n",
       "      <td>3.02952E+11</td>\n",
       "      <td>12/21/2018</td>\n",
       "      <td>1</td>\n",
       "      <td>7500</td>\n",
       "      <td>30.0</td>\n",
       "      <td>30</td>\n",
       "      <td>1/20/2019</td>\n",
       "      <td>1/17/2019</td>\n",
       "    </tr>\n",
       "  </tbody>\n",
       "</table>\n",
       "</div>"
      ],
      "text/plain": [
       "  customerID       loanId applicationDate  LoanNumber  LoanAmount  \\\n",
       "0  839247458  3.02953E+11      12/21/2018           1        7500   \n",
       "1  217540860   3.0296E+11      12/23/2018           1        7500   \n",
       "2  522238092  3.03017E+11        1/8/2019           1        7500   \n",
       "3   96754469     3.03E+11        1/4/2019           1        7500   \n",
       "4  410354345  3.02952E+11      12/21/2018           1        7500   \n",
       "\n",
       "   InterestRate  TermDays repaymentDueDate repaymentPaidDate  \n",
       "0          30.0        30        1/20/2019         1/16/2019  \n",
       "1          30.0        30        1/22/2019        12/29/2018  \n",
       "2          30.0        30         2/7/2019          1/8/2019  \n",
       "3          30.0        30         2/3/2019          1/8/2019  \n",
       "4          30.0        30        1/20/2019         1/17/2019  "
      ]
     },
     "execution_count": 2,
     "metadata": {},
     "output_type": "execute_result"
    }
   ],
   "source": [
    "easter_data = pd.read_csv(\"application_data.csv\")\n",
    "easter_data.head()"
   ]
  },
  {
   "cell_type": "code",
   "execution_count": 5,
   "id": "polished-timber",
   "metadata": {},
   "outputs": [
    {
     "data": {
      "text/plain": [
       "13828.08"
      ]
     },
     "execution_count": 5,
     "metadata": {},
     "output_type": "execute_result"
    }
   ],
   "source": [
    "easter_data[\"LoanAmount\"].mean()"
   ]
  },
  {
   "cell_type": "code",
   "execution_count": 6,
   "id": "provincial-flesh",
   "metadata": {},
   "outputs": [
    {
     "data": {
      "text/plain": [
       "23.061700000000002"
      ]
     },
     "execution_count": 6,
     "metadata": {},
     "output_type": "execute_result"
    }
   ],
   "source": [
    "easter_data[\"InterestRate\"].mean()"
   ]
  },
  {
   "cell_type": "code",
   "execution_count": 7,
   "id": "creative-massage",
   "metadata": {},
   "outputs": [
    {
     "data": {
      "text/plain": [
       "42.075"
      ]
     },
     "execution_count": 7,
     "metadata": {},
     "output_type": "execute_result"
    }
   ],
   "source": [
    "easter_data[\"TermDays\"].mean()"
   ]
  },
  {
   "cell_type": "code",
   "execution_count": 3,
   "id": "approximate-thompson",
   "metadata": {
    "ExecuteTime": {
     "end_time": "2021-05-08T12:53:06.410795Z",
     "start_time": "2021-05-08T12:53:06.383906Z"
    }
   },
   "outputs": [
    {
     "name": "stdout",
     "output_type": "stream",
     "text": [
      "<class 'pandas.core.frame.DataFrame'>\n",
      "RangeIndex: 1000 entries, 0 to 999\n",
      "Data columns (total 9 columns):\n",
      " #   Column             Non-Null Count  Dtype  \n",
      "---  ------             --------------  -----  \n",
      " 0   customerID         1000 non-null   object \n",
      " 1   loanId             1000 non-null   object \n",
      " 2   applicationDate    1000 non-null   object \n",
      " 3   LoanNumber         1000 non-null   int64  \n",
      " 4   LoanAmount         1000 non-null   int64  \n",
      " 5   InterestRate       1000 non-null   float64\n",
      " 6   TermDays           1000 non-null   int64  \n",
      " 7   repaymentDueDate   1000 non-null   object \n",
      " 8   repaymentPaidDate  1000 non-null   object \n",
      "dtypes: float64(1), int64(3), object(5)\n",
      "memory usage: 50.8+ KB\n"
     ]
    }
   ],
   "source": [
    " easter_data.info()"
   ]
  },
  {
   "cell_type": "code",
   "execution_count": 4,
   "id": "greek-knock",
   "metadata": {
    "ExecuteTime": {
     "end_time": "2021-05-08T12:53:09.630750Z",
     "start_time": "2021-05-08T12:53:09.595375Z"
    }
   },
   "outputs": [],
   "source": [
    "easter_data[\"repaymentDueDate\"] = pd.to_datetime(easter_data[\"repaymentDueDate\"])"
   ]
  },
  {
   "cell_type": "code",
   "execution_count": 5,
   "id": "included-edward",
   "metadata": {
    "ExecuteTime": {
     "end_time": "2021-05-08T12:53:12.664929Z",
     "start_time": "2021-05-08T12:53:12.638430Z"
    }
   },
   "outputs": [
    {
     "data": {
      "text/html": [
       "<div>\n",
       "<style scoped>\n",
       "    .dataframe tbody tr th:only-of-type {\n",
       "        vertical-align: middle;\n",
       "    }\n",
       "\n",
       "    .dataframe tbody tr th {\n",
       "        vertical-align: top;\n",
       "    }\n",
       "\n",
       "    .dataframe thead th {\n",
       "        text-align: right;\n",
       "    }\n",
       "</style>\n",
       "<table border=\"1\" class=\"dataframe\">\n",
       "  <thead>\n",
       "    <tr style=\"text-align: right;\">\n",
       "      <th></th>\n",
       "      <th>customerID</th>\n",
       "      <th>loanId</th>\n",
       "      <th>applicationDate</th>\n",
       "      <th>LoanNumber</th>\n",
       "      <th>LoanAmount</th>\n",
       "      <th>InterestRate</th>\n",
       "      <th>TermDays</th>\n",
       "      <th>repaymentDueDate</th>\n",
       "      <th>repaymentPaidDate</th>\n",
       "    </tr>\n",
       "  </thead>\n",
       "  <tbody>\n",
       "    <tr>\n",
       "      <th>0</th>\n",
       "      <td>839247458</td>\n",
       "      <td>3.02953E+11</td>\n",
       "      <td>12/21/2018</td>\n",
       "      <td>1</td>\n",
       "      <td>7500</td>\n",
       "      <td>30.0</td>\n",
       "      <td>30</td>\n",
       "      <td>2019-01-20</td>\n",
       "      <td>1/16/2019</td>\n",
       "    </tr>\n",
       "    <tr>\n",
       "      <th>1</th>\n",
       "      <td>217540860</td>\n",
       "      <td>3.0296E+11</td>\n",
       "      <td>12/23/2018</td>\n",
       "      <td>1</td>\n",
       "      <td>7500</td>\n",
       "      <td>30.0</td>\n",
       "      <td>30</td>\n",
       "      <td>2019-01-22</td>\n",
       "      <td>12/29/2018</td>\n",
       "    </tr>\n",
       "    <tr>\n",
       "      <th>2</th>\n",
       "      <td>522238092</td>\n",
       "      <td>3.03017E+11</td>\n",
       "      <td>1/8/2019</td>\n",
       "      <td>1</td>\n",
       "      <td>7500</td>\n",
       "      <td>30.0</td>\n",
       "      <td>30</td>\n",
       "      <td>2019-02-07</td>\n",
       "      <td>1/8/2019</td>\n",
       "    </tr>\n",
       "    <tr>\n",
       "      <th>3</th>\n",
       "      <td>96754469</td>\n",
       "      <td>3.03E+11</td>\n",
       "      <td>1/4/2019</td>\n",
       "      <td>1</td>\n",
       "      <td>7500</td>\n",
       "      <td>30.0</td>\n",
       "      <td>30</td>\n",
       "      <td>2019-02-03</td>\n",
       "      <td>1/8/2019</td>\n",
       "    </tr>\n",
       "    <tr>\n",
       "      <th>4</th>\n",
       "      <td>410354345</td>\n",
       "      <td>3.02952E+11</td>\n",
       "      <td>12/21/2018</td>\n",
       "      <td>1</td>\n",
       "      <td>7500</td>\n",
       "      <td>30.0</td>\n",
       "      <td>30</td>\n",
       "      <td>2019-01-20</td>\n",
       "      <td>1/17/2019</td>\n",
       "    </tr>\n",
       "  </tbody>\n",
       "</table>\n",
       "</div>"
      ],
      "text/plain": [
       "  customerID       loanId applicationDate  LoanNumber  LoanAmount  \\\n",
       "0  839247458  3.02953E+11      12/21/2018           1        7500   \n",
       "1  217540860   3.0296E+11      12/23/2018           1        7500   \n",
       "2  522238092  3.03017E+11        1/8/2019           1        7500   \n",
       "3   96754469     3.03E+11        1/4/2019           1        7500   \n",
       "4  410354345  3.02952E+11      12/21/2018           1        7500   \n",
       "\n",
       "   InterestRate  TermDays repaymentDueDate repaymentPaidDate  \n",
       "0          30.0        30       2019-01-20         1/16/2019  \n",
       "1          30.0        30       2019-01-22        12/29/2018  \n",
       "2          30.0        30       2019-02-07          1/8/2019  \n",
       "3          30.0        30       2019-02-03          1/8/2019  \n",
       "4          30.0        30       2019-01-20         1/17/2019  "
      ]
     },
     "execution_count": 5,
     "metadata": {},
     "output_type": "execute_result"
    }
   ],
   "source": [
    "easter_data.head()"
   ]
  },
  {
   "cell_type": "code",
   "execution_count": 6,
   "id": "threatened-albert",
   "metadata": {
    "ExecuteTime": {
     "end_time": "2021-05-08T12:53:17.111127Z",
     "start_time": "2021-05-08T12:53:17.080694Z"
    }
   },
   "outputs": [],
   "source": [
    "easter_data[\"repaymentPaidDate\"] = pd.to_datetime(easter_data[\"repaymentPaidDate\"])"
   ]
  },
  {
   "cell_type": "code",
   "execution_count": 7,
   "id": "experimental-involvement",
   "metadata": {
    "ExecuteTime": {
     "end_time": "2021-05-08T12:53:19.941068Z",
     "start_time": "2021-05-08T12:53:19.924088Z"
    }
   },
   "outputs": [
    {
     "data": {
      "text/html": [
       "<div>\n",
       "<style scoped>\n",
       "    .dataframe tbody tr th:only-of-type {\n",
       "        vertical-align: middle;\n",
       "    }\n",
       "\n",
       "    .dataframe tbody tr th {\n",
       "        vertical-align: top;\n",
       "    }\n",
       "\n",
       "    .dataframe thead th {\n",
       "        text-align: right;\n",
       "    }\n",
       "</style>\n",
       "<table border=\"1\" class=\"dataframe\">\n",
       "  <thead>\n",
       "    <tr style=\"text-align: right;\">\n",
       "      <th></th>\n",
       "      <th>customerID</th>\n",
       "      <th>loanId</th>\n",
       "      <th>applicationDate</th>\n",
       "      <th>LoanNumber</th>\n",
       "      <th>LoanAmount</th>\n",
       "      <th>InterestRate</th>\n",
       "      <th>TermDays</th>\n",
       "      <th>repaymentDueDate</th>\n",
       "      <th>repaymentPaidDate</th>\n",
       "    </tr>\n",
       "  </thead>\n",
       "  <tbody>\n",
       "    <tr>\n",
       "      <th>0</th>\n",
       "      <td>839247458</td>\n",
       "      <td>3.02953E+11</td>\n",
       "      <td>12/21/2018</td>\n",
       "      <td>1</td>\n",
       "      <td>7500</td>\n",
       "      <td>30.0</td>\n",
       "      <td>30</td>\n",
       "      <td>2019-01-20</td>\n",
       "      <td>2019-01-16</td>\n",
       "    </tr>\n",
       "    <tr>\n",
       "      <th>1</th>\n",
       "      <td>217540860</td>\n",
       "      <td>3.0296E+11</td>\n",
       "      <td>12/23/2018</td>\n",
       "      <td>1</td>\n",
       "      <td>7500</td>\n",
       "      <td>30.0</td>\n",
       "      <td>30</td>\n",
       "      <td>2019-01-22</td>\n",
       "      <td>2018-12-29</td>\n",
       "    </tr>\n",
       "    <tr>\n",
       "      <th>2</th>\n",
       "      <td>522238092</td>\n",
       "      <td>3.03017E+11</td>\n",
       "      <td>1/8/2019</td>\n",
       "      <td>1</td>\n",
       "      <td>7500</td>\n",
       "      <td>30.0</td>\n",
       "      <td>30</td>\n",
       "      <td>2019-02-07</td>\n",
       "      <td>2019-01-08</td>\n",
       "    </tr>\n",
       "    <tr>\n",
       "      <th>3</th>\n",
       "      <td>96754469</td>\n",
       "      <td>3.03E+11</td>\n",
       "      <td>1/4/2019</td>\n",
       "      <td>1</td>\n",
       "      <td>7500</td>\n",
       "      <td>30.0</td>\n",
       "      <td>30</td>\n",
       "      <td>2019-02-03</td>\n",
       "      <td>2019-01-08</td>\n",
       "    </tr>\n",
       "    <tr>\n",
       "      <th>4</th>\n",
       "      <td>410354345</td>\n",
       "      <td>3.02952E+11</td>\n",
       "      <td>12/21/2018</td>\n",
       "      <td>1</td>\n",
       "      <td>7500</td>\n",
       "      <td>30.0</td>\n",
       "      <td>30</td>\n",
       "      <td>2019-01-20</td>\n",
       "      <td>2019-01-17</td>\n",
       "    </tr>\n",
       "  </tbody>\n",
       "</table>\n",
       "</div>"
      ],
      "text/plain": [
       "  customerID       loanId applicationDate  LoanNumber  LoanAmount  \\\n",
       "0  839247458  3.02953E+11      12/21/2018           1        7500   \n",
       "1  217540860   3.0296E+11      12/23/2018           1        7500   \n",
       "2  522238092  3.03017E+11        1/8/2019           1        7500   \n",
       "3   96754469     3.03E+11        1/4/2019           1        7500   \n",
       "4  410354345  3.02952E+11      12/21/2018           1        7500   \n",
       "\n",
       "   InterestRate  TermDays repaymentDueDate repaymentPaidDate  \n",
       "0          30.0        30       2019-01-20        2019-01-16  \n",
       "1          30.0        30       2019-01-22        2018-12-29  \n",
       "2          30.0        30       2019-02-07        2019-01-08  \n",
       "3          30.0        30       2019-02-03        2019-01-08  \n",
       "4          30.0        30       2019-01-20        2019-01-17  "
      ]
     },
     "execution_count": 7,
     "metadata": {},
     "output_type": "execute_result"
    }
   ],
   "source": [
    "easter_data.head()"
   ]
  },
  {
   "cell_type": "code",
   "execution_count": 8,
   "id": "simplified-climate",
   "metadata": {
    "ExecuteTime": {
     "end_time": "2021-05-08T12:53:24.584099Z",
     "start_time": "2021-05-08T12:53:24.566147Z"
    }
   },
   "outputs": [],
   "source": [
    "easter_data[\"DateDifference\"] = easter_data[\"repaymentDueDate\"] - easter_data[\"repaymentPaidDate\"]"
   ]
  },
  {
   "cell_type": "code",
   "execution_count": 9,
   "id": "computational-triumph",
   "metadata": {
    "ExecuteTime": {
     "end_time": "2021-05-08T12:53:27.167450Z",
     "start_time": "2021-05-08T12:53:27.128835Z"
    }
   },
   "outputs": [
    {
     "data": {
      "text/html": [
       "<div>\n",
       "<style scoped>\n",
       "    .dataframe tbody tr th:only-of-type {\n",
       "        vertical-align: middle;\n",
       "    }\n",
       "\n",
       "    .dataframe tbody tr th {\n",
       "        vertical-align: top;\n",
       "    }\n",
       "\n",
       "    .dataframe thead th {\n",
       "        text-align: right;\n",
       "    }\n",
       "</style>\n",
       "<table border=\"1\" class=\"dataframe\">\n",
       "  <thead>\n",
       "    <tr style=\"text-align: right;\">\n",
       "      <th></th>\n",
       "      <th>customerID</th>\n",
       "      <th>loanId</th>\n",
       "      <th>applicationDate</th>\n",
       "      <th>LoanNumber</th>\n",
       "      <th>LoanAmount</th>\n",
       "      <th>InterestRate</th>\n",
       "      <th>TermDays</th>\n",
       "      <th>repaymentDueDate</th>\n",
       "      <th>repaymentPaidDate</th>\n",
       "      <th>DateDifference</th>\n",
       "    </tr>\n",
       "  </thead>\n",
       "  <tbody>\n",
       "    <tr>\n",
       "      <th>0</th>\n",
       "      <td>839247458</td>\n",
       "      <td>3.02953E+11</td>\n",
       "      <td>12/21/2018</td>\n",
       "      <td>1</td>\n",
       "      <td>7500</td>\n",
       "      <td>30.0</td>\n",
       "      <td>30</td>\n",
       "      <td>2019-01-20</td>\n",
       "      <td>2019-01-16</td>\n",
       "      <td>4 days</td>\n",
       "    </tr>\n",
       "    <tr>\n",
       "      <th>1</th>\n",
       "      <td>217540860</td>\n",
       "      <td>3.0296E+11</td>\n",
       "      <td>12/23/2018</td>\n",
       "      <td>1</td>\n",
       "      <td>7500</td>\n",
       "      <td>30.0</td>\n",
       "      <td>30</td>\n",
       "      <td>2019-01-22</td>\n",
       "      <td>2018-12-29</td>\n",
       "      <td>24 days</td>\n",
       "    </tr>\n",
       "    <tr>\n",
       "      <th>2</th>\n",
       "      <td>522238092</td>\n",
       "      <td>3.03017E+11</td>\n",
       "      <td>1/8/2019</td>\n",
       "      <td>1</td>\n",
       "      <td>7500</td>\n",
       "      <td>30.0</td>\n",
       "      <td>30</td>\n",
       "      <td>2019-02-07</td>\n",
       "      <td>2019-01-08</td>\n",
       "      <td>30 days</td>\n",
       "    </tr>\n",
       "    <tr>\n",
       "      <th>3</th>\n",
       "      <td>96754469</td>\n",
       "      <td>3.03E+11</td>\n",
       "      <td>1/4/2019</td>\n",
       "      <td>1</td>\n",
       "      <td>7500</td>\n",
       "      <td>30.0</td>\n",
       "      <td>30</td>\n",
       "      <td>2019-02-03</td>\n",
       "      <td>2019-01-08</td>\n",
       "      <td>26 days</td>\n",
       "    </tr>\n",
       "    <tr>\n",
       "      <th>4</th>\n",
       "      <td>410354345</td>\n",
       "      <td>3.02952E+11</td>\n",
       "      <td>12/21/2018</td>\n",
       "      <td>1</td>\n",
       "      <td>7500</td>\n",
       "      <td>30.0</td>\n",
       "      <td>30</td>\n",
       "      <td>2019-01-20</td>\n",
       "      <td>2019-01-17</td>\n",
       "      <td>3 days</td>\n",
       "    </tr>\n",
       "    <tr>\n",
       "      <th>...</th>\n",
       "      <td>...</td>\n",
       "      <td>...</td>\n",
       "      <td>...</td>\n",
       "      <td>...</td>\n",
       "      <td>...</td>\n",
       "      <td>...</td>\n",
       "      <td>...</td>\n",
       "      <td>...</td>\n",
       "      <td>...</td>\n",
       "      <td>...</td>\n",
       "    </tr>\n",
       "    <tr>\n",
       "      <th>995</th>\n",
       "      <td>964510149</td>\n",
       "      <td>302636726</td>\n",
       "      <td>1/15/2018</td>\n",
       "      <td>2</td>\n",
       "      <td>7500</td>\n",
       "      <td>30.0</td>\n",
       "      <td>30</td>\n",
       "      <td>2018-02-14</td>\n",
       "      <td>2018-01-20</td>\n",
       "      <td>25 days</td>\n",
       "    </tr>\n",
       "    <tr>\n",
       "      <th>996</th>\n",
       "      <td>251997198</td>\n",
       "      <td>302772445</td>\n",
       "      <td>2/13/2018</td>\n",
       "      <td>1</td>\n",
       "      <td>7500</td>\n",
       "      <td>30.0</td>\n",
       "      <td>30</td>\n",
       "      <td>2018-03-15</td>\n",
       "      <td>2018-03-14</td>\n",
       "      <td>1 days</td>\n",
       "    </tr>\n",
       "    <tr>\n",
       "      <th>997</th>\n",
       "      <td>899011279</td>\n",
       "      <td>302585439</td>\n",
       "      <td>1/3/2018</td>\n",
       "      <td>3</td>\n",
       "      <td>7500</td>\n",
       "      <td>30.0</td>\n",
       "      <td>30</td>\n",
       "      <td>2018-02-02</td>\n",
       "      <td>2018-10-12</td>\n",
       "      <td>-252 days</td>\n",
       "    </tr>\n",
       "    <tr>\n",
       "      <th>998</th>\n",
       "      <td>648637210</td>\n",
       "      <td>3.02788E+11</td>\n",
       "      <td>11/19/2018</td>\n",
       "      <td>1</td>\n",
       "      <td>7500</td>\n",
       "      <td>30.0</td>\n",
       "      <td>30</td>\n",
       "      <td>2018-12-19</td>\n",
       "      <td>2018-12-17</td>\n",
       "      <td>2 days</td>\n",
       "    </tr>\n",
       "    <tr>\n",
       "      <th>999</th>\n",
       "      <td>464788691</td>\n",
       "      <td>302683579</td>\n",
       "      <td>1/24/2018</td>\n",
       "      <td>1</td>\n",
       "      <td>7500</td>\n",
       "      <td>30.0</td>\n",
       "      <td>30</td>\n",
       "      <td>2018-02-24</td>\n",
       "      <td>2018-02-11</td>\n",
       "      <td>13 days</td>\n",
       "    </tr>\n",
       "  </tbody>\n",
       "</table>\n",
       "<p>1000 rows × 10 columns</p>\n",
       "</div>"
      ],
      "text/plain": [
       "    customerID       loanId applicationDate  LoanNumber  LoanAmount  \\\n",
       "0    839247458  3.02953E+11      12/21/2018           1        7500   \n",
       "1    217540860   3.0296E+11      12/23/2018           1        7500   \n",
       "2    522238092  3.03017E+11        1/8/2019           1        7500   \n",
       "3     96754469     3.03E+11        1/4/2019           1        7500   \n",
       "4    410354345  3.02952E+11      12/21/2018           1        7500   \n",
       "..         ...          ...             ...         ...         ...   \n",
       "995  964510149    302636726       1/15/2018           2        7500   \n",
       "996  251997198    302772445       2/13/2018           1        7500   \n",
       "997  899011279    302585439        1/3/2018           3        7500   \n",
       "998  648637210  3.02788E+11      11/19/2018           1        7500   \n",
       "999  464788691    302683579       1/24/2018           1        7500   \n",
       "\n",
       "     InterestRate  TermDays repaymentDueDate repaymentPaidDate DateDifference  \n",
       "0            30.0        30       2019-01-20        2019-01-16         4 days  \n",
       "1            30.0        30       2019-01-22        2018-12-29        24 days  \n",
       "2            30.0        30       2019-02-07        2019-01-08        30 days  \n",
       "3            30.0        30       2019-02-03        2019-01-08        26 days  \n",
       "4            30.0        30       2019-01-20        2019-01-17         3 days  \n",
       "..            ...       ...              ...               ...            ...  \n",
       "995          30.0        30       2018-02-14        2018-01-20        25 days  \n",
       "996          30.0        30       2018-03-15        2018-03-14         1 days  \n",
       "997          30.0        30       2018-02-02        2018-10-12      -252 days  \n",
       "998          30.0        30       2018-12-19        2018-12-17         2 days  \n",
       "999          30.0        30       2018-02-24        2018-02-11        13 days  \n",
       "\n",
       "[1000 rows x 10 columns]"
      ]
     },
     "execution_count": 9,
     "metadata": {},
     "output_type": "execute_result"
    }
   ],
   "source": [
    "easter_data"
   ]
  },
  {
   "cell_type": "code",
   "execution_count": 10,
   "id": "treated-pattern",
   "metadata": {
    "ExecuteTime": {
     "end_time": "2021-05-08T12:53:33.540453Z",
     "start_time": "2021-05-08T12:53:33.503382Z"
    }
   },
   "outputs": [
    {
     "data": {
      "text/html": [
       "<div>\n",
       "<style scoped>\n",
       "    .dataframe tbody tr th:only-of-type {\n",
       "        vertical-align: middle;\n",
       "    }\n",
       "\n",
       "    .dataframe tbody tr th {\n",
       "        vertical-align: top;\n",
       "    }\n",
       "\n",
       "    .dataframe thead th {\n",
       "        text-align: right;\n",
       "    }\n",
       "</style>\n",
       "<table border=\"1\" class=\"dataframe\">\n",
       "  <thead>\n",
       "    <tr style=\"text-align: right;\">\n",
       "      <th></th>\n",
       "      <th>customerID</th>\n",
       "      <th>loanId</th>\n",
       "      <th>applicationDate</th>\n",
       "      <th>LoanNumber</th>\n",
       "      <th>LoanAmount</th>\n",
       "      <th>InterestRate</th>\n",
       "      <th>TermDays</th>\n",
       "      <th>repaymentDueDate</th>\n",
       "      <th>repaymentPaidDate</th>\n",
       "      <th>DateDifference</th>\n",
       "    </tr>\n",
       "  </thead>\n",
       "  <tbody>\n",
       "    <tr>\n",
       "      <th>397</th>\n",
       "      <td>GH35460722</td>\n",
       "      <td>100016172</td>\n",
       "      <td>1/30/2018</td>\n",
       "      <td>5</td>\n",
       "      <td>80</td>\n",
       "      <td>15.0</td>\n",
       "      <td>15</td>\n",
       "      <td>2018-02-14</td>\n",
       "      <td>2018-03-01</td>\n",
       "      <td>-15 days</td>\n",
       "    </tr>\n",
       "    <tr>\n",
       "      <th>410</th>\n",
       "      <td>GH85390929</td>\n",
       "      <td>100015715</td>\n",
       "      <td>1/27/2018</td>\n",
       "      <td>2</td>\n",
       "      <td>80</td>\n",
       "      <td>15.0</td>\n",
       "      <td>15</td>\n",
       "      <td>2018-02-12</td>\n",
       "      <td>2018-02-16</td>\n",
       "      <td>-4 days</td>\n",
       "    </tr>\n",
       "    <tr>\n",
       "      <th>419</th>\n",
       "      <td>GH06832511</td>\n",
       "      <td>100014400</td>\n",
       "      <td>1/20/2018</td>\n",
       "      <td>1</td>\n",
       "      <td>80</td>\n",
       "      <td>15.0</td>\n",
       "      <td>15</td>\n",
       "      <td>2018-02-05</td>\n",
       "      <td>2018-02-14</td>\n",
       "      <td>-9 days</td>\n",
       "    </tr>\n",
       "    <tr>\n",
       "      <th>424</th>\n",
       "      <td>GH26139148</td>\n",
       "      <td>100017099</td>\n",
       "      <td>2/4/2018</td>\n",
       "      <td>2</td>\n",
       "      <td>80</td>\n",
       "      <td>15.0</td>\n",
       "      <td>15</td>\n",
       "      <td>2018-02-19</td>\n",
       "      <td>2018-02-27</td>\n",
       "      <td>-8 days</td>\n",
       "    </tr>\n",
       "    <tr>\n",
       "      <th>426</th>\n",
       "      <td>GH03825373</td>\n",
       "      <td>100012495</td>\n",
       "      <td>1/13/2018</td>\n",
       "      <td>1</td>\n",
       "      <td>80</td>\n",
       "      <td>15.0</td>\n",
       "      <td>15</td>\n",
       "      <td>2018-01-29</td>\n",
       "      <td>2018-02-13</td>\n",
       "      <td>-15 days</td>\n",
       "    </tr>\n",
       "    <tr>\n",
       "      <th>...</th>\n",
       "      <td>...</td>\n",
       "      <td>...</td>\n",
       "      <td>...</td>\n",
       "      <td>...</td>\n",
       "      <td>...</td>\n",
       "      <td>...</td>\n",
       "      <td>...</td>\n",
       "      <td>...</td>\n",
       "      <td>...</td>\n",
       "      <td>...</td>\n",
       "    </tr>\n",
       "    <tr>\n",
       "      <th>978</th>\n",
       "      <td>189301655</td>\n",
       "      <td>3.02566E+11</td>\n",
       "      <td>10/13/2018</td>\n",
       "      <td>2</td>\n",
       "      <td>7500</td>\n",
       "      <td>30.0</td>\n",
       "      <td>30</td>\n",
       "      <td>2018-11-12</td>\n",
       "      <td>2018-11-20</td>\n",
       "      <td>-8 days</td>\n",
       "    </tr>\n",
       "    <tr>\n",
       "      <th>980</th>\n",
       "      <td>874756930</td>\n",
       "      <td>302885631</td>\n",
       "      <td>3/7/2018</td>\n",
       "      <td>2</td>\n",
       "      <td>7500</td>\n",
       "      <td>30.0</td>\n",
       "      <td>30</td>\n",
       "      <td>2018-04-06</td>\n",
       "      <td>2018-04-17</td>\n",
       "      <td>-11 days</td>\n",
       "    </tr>\n",
       "    <tr>\n",
       "      <th>983</th>\n",
       "      <td>351491824</td>\n",
       "      <td>302607848</td>\n",
       "      <td>1/8/2018</td>\n",
       "      <td>1</td>\n",
       "      <td>7500</td>\n",
       "      <td>30.0</td>\n",
       "      <td>30</td>\n",
       "      <td>2018-02-09</td>\n",
       "      <td>2018-05-09</td>\n",
       "      <td>-89 days</td>\n",
       "    </tr>\n",
       "    <tr>\n",
       "      <th>987</th>\n",
       "      <td>576830620</td>\n",
       "      <td>302856088</td>\n",
       "      <td>3/1/2018</td>\n",
       "      <td>3</td>\n",
       "      <td>7500</td>\n",
       "      <td>30.0</td>\n",
       "      <td>30</td>\n",
       "      <td>2018-03-31</td>\n",
       "      <td>2018-07-12</td>\n",
       "      <td>-103 days</td>\n",
       "    </tr>\n",
       "    <tr>\n",
       "      <th>997</th>\n",
       "      <td>899011279</td>\n",
       "      <td>302585439</td>\n",
       "      <td>1/3/2018</td>\n",
       "      <td>3</td>\n",
       "      <td>7500</td>\n",
       "      <td>30.0</td>\n",
       "      <td>30</td>\n",
       "      <td>2018-02-02</td>\n",
       "      <td>2018-10-12</td>\n",
       "      <td>-252 days</td>\n",
       "    </tr>\n",
       "  </tbody>\n",
       "</table>\n",
       "<p>145 rows × 10 columns</p>\n",
       "</div>"
      ],
      "text/plain": [
       "     customerID       loanId applicationDate  LoanNumber  LoanAmount  \\\n",
       "397  GH35460722    100016172       1/30/2018           5          80   \n",
       "410  GH85390929    100015715       1/27/2018           2          80   \n",
       "419  GH06832511    100014400       1/20/2018           1          80   \n",
       "424  GH26139148    100017099        2/4/2018           2          80   \n",
       "426  GH03825373    100012495       1/13/2018           1          80   \n",
       "..          ...          ...             ...         ...         ...   \n",
       "978   189301655  3.02566E+11      10/13/2018           2        7500   \n",
       "980   874756930    302885631        3/7/2018           2        7500   \n",
       "983   351491824    302607848        1/8/2018           1        7500   \n",
       "987   576830620    302856088        3/1/2018           3        7500   \n",
       "997   899011279    302585439        1/3/2018           3        7500   \n",
       "\n",
       "     InterestRate  TermDays repaymentDueDate repaymentPaidDate DateDifference  \n",
       "397          15.0        15       2018-02-14        2018-03-01       -15 days  \n",
       "410          15.0        15       2018-02-12        2018-02-16        -4 days  \n",
       "419          15.0        15       2018-02-05        2018-02-14        -9 days  \n",
       "424          15.0        15       2018-02-19        2018-02-27        -8 days  \n",
       "426          15.0        15       2018-01-29        2018-02-13       -15 days  \n",
       "..            ...       ...              ...               ...            ...  \n",
       "978          30.0        30       2018-11-12        2018-11-20        -8 days  \n",
       "980          30.0        30       2018-04-06        2018-04-17       -11 days  \n",
       "983          30.0        30       2018-02-09        2018-05-09       -89 days  \n",
       "987          30.0        30       2018-03-31        2018-07-12      -103 days  \n",
       "997          30.0        30       2018-02-02        2018-10-12      -252 days  \n",
       "\n",
       "[145 rows x 10 columns]"
      ]
     },
     "execution_count": 10,
     "metadata": {},
     "output_type": "execute_result"
    }
   ],
   "source": [
    "extended_paytime = easter_data[easter_data[\"DateDifference\"] < \"-3 days\"]\n",
    "extended_paytime"
   ]
  },
  {
   "cell_type": "code",
   "execution_count": 11,
   "id": "radio-moderator",
   "metadata": {
    "ExecuteTime": {
     "end_time": "2021-05-08T12:53:38.259772Z",
     "start_time": "2021-05-08T12:53:38.237800Z"
    }
   },
   "outputs": [
    {
     "data": {
      "text/plain": [
       "14.5"
      ]
     },
     "execution_count": 11,
     "metadata": {},
     "output_type": "execute_result"
    }
   ],
   "source": [
    "percentage_extn = (len(extended_paytime) / len(easter_data)) * 100  ##Percentage of customers that paid after three days extension.\n",
    "round(percentage_extn, 1)"
   ]
  },
  {
   "cell_type": "code",
   "execution_count": 12,
   "id": "handy-arrow",
   "metadata": {
    "ExecuteTime": {
     "end_time": "2021-05-08T12:53:55.034658Z",
     "start_time": "2021-05-08T12:53:55.025684Z"
    }
   },
   "outputs": [],
   "source": [
    "easter_data.set_index(pd.Index([num for num in range(1, len(easter_data) + 1)]), inplace = True)"
   ]
  },
  {
   "cell_type": "code",
   "execution_count": 13,
   "id": "imposed-botswana",
   "metadata": {
    "ExecuteTime": {
     "end_time": "2021-05-08T12:54:00.077900Z",
     "start_time": "2021-05-08T12:54:00.053489Z"
    }
   },
   "outputs": [
    {
     "data": {
      "text/html": [
       "<div>\n",
       "<style scoped>\n",
       "    .dataframe tbody tr th:only-of-type {\n",
       "        vertical-align: middle;\n",
       "    }\n",
       "\n",
       "    .dataframe tbody tr th {\n",
       "        vertical-align: top;\n",
       "    }\n",
       "\n",
       "    .dataframe thead th {\n",
       "        text-align: right;\n",
       "    }\n",
       "</style>\n",
       "<table border=\"1\" class=\"dataframe\">\n",
       "  <thead>\n",
       "    <tr style=\"text-align: right;\">\n",
       "      <th></th>\n",
       "      <th>customerID</th>\n",
       "      <th>loanId</th>\n",
       "      <th>applicationDate</th>\n",
       "      <th>LoanNumber</th>\n",
       "      <th>LoanAmount</th>\n",
       "      <th>InterestRate</th>\n",
       "      <th>TermDays</th>\n",
       "      <th>repaymentDueDate</th>\n",
       "      <th>repaymentPaidDate</th>\n",
       "      <th>DateDifference</th>\n",
       "    </tr>\n",
       "  </thead>\n",
       "  <tbody>\n",
       "    <tr>\n",
       "      <th>1</th>\n",
       "      <td>839247458</td>\n",
       "      <td>3.02953E+11</td>\n",
       "      <td>12/21/2018</td>\n",
       "      <td>1</td>\n",
       "      <td>7500</td>\n",
       "      <td>30.0</td>\n",
       "      <td>30</td>\n",
       "      <td>2019-01-20</td>\n",
       "      <td>2019-01-16</td>\n",
       "      <td>4 days</td>\n",
       "    </tr>\n",
       "    <tr>\n",
       "      <th>2</th>\n",
       "      <td>217540860</td>\n",
       "      <td>3.0296E+11</td>\n",
       "      <td>12/23/2018</td>\n",
       "      <td>1</td>\n",
       "      <td>7500</td>\n",
       "      <td>30.0</td>\n",
       "      <td>30</td>\n",
       "      <td>2019-01-22</td>\n",
       "      <td>2018-12-29</td>\n",
       "      <td>24 days</td>\n",
       "    </tr>\n",
       "    <tr>\n",
       "      <th>3</th>\n",
       "      <td>522238092</td>\n",
       "      <td>3.03017E+11</td>\n",
       "      <td>1/8/2019</td>\n",
       "      <td>1</td>\n",
       "      <td>7500</td>\n",
       "      <td>30.0</td>\n",
       "      <td>30</td>\n",
       "      <td>2019-02-07</td>\n",
       "      <td>2019-01-08</td>\n",
       "      <td>30 days</td>\n",
       "    </tr>\n",
       "    <tr>\n",
       "      <th>4</th>\n",
       "      <td>96754469</td>\n",
       "      <td>3.03E+11</td>\n",
       "      <td>1/4/2019</td>\n",
       "      <td>1</td>\n",
       "      <td>7500</td>\n",
       "      <td>30.0</td>\n",
       "      <td>30</td>\n",
       "      <td>2019-02-03</td>\n",
       "      <td>2019-01-08</td>\n",
       "      <td>26 days</td>\n",
       "    </tr>\n",
       "    <tr>\n",
       "      <th>5</th>\n",
       "      <td>410354345</td>\n",
       "      <td>3.02952E+11</td>\n",
       "      <td>12/21/2018</td>\n",
       "      <td>1</td>\n",
       "      <td>7500</td>\n",
       "      <td>30.0</td>\n",
       "      <td>30</td>\n",
       "      <td>2019-01-20</td>\n",
       "      <td>2019-01-17</td>\n",
       "      <td>3 days</td>\n",
       "    </tr>\n",
       "    <tr>\n",
       "      <th>...</th>\n",
       "      <td>...</td>\n",
       "      <td>...</td>\n",
       "      <td>...</td>\n",
       "      <td>...</td>\n",
       "      <td>...</td>\n",
       "      <td>...</td>\n",
       "      <td>...</td>\n",
       "      <td>...</td>\n",
       "      <td>...</td>\n",
       "      <td>...</td>\n",
       "    </tr>\n",
       "    <tr>\n",
       "      <th>996</th>\n",
       "      <td>964510149</td>\n",
       "      <td>302636726</td>\n",
       "      <td>1/15/2018</td>\n",
       "      <td>2</td>\n",
       "      <td>7500</td>\n",
       "      <td>30.0</td>\n",
       "      <td>30</td>\n",
       "      <td>2018-02-14</td>\n",
       "      <td>2018-01-20</td>\n",
       "      <td>25 days</td>\n",
       "    </tr>\n",
       "    <tr>\n",
       "      <th>997</th>\n",
       "      <td>251997198</td>\n",
       "      <td>302772445</td>\n",
       "      <td>2/13/2018</td>\n",
       "      <td>1</td>\n",
       "      <td>7500</td>\n",
       "      <td>30.0</td>\n",
       "      <td>30</td>\n",
       "      <td>2018-03-15</td>\n",
       "      <td>2018-03-14</td>\n",
       "      <td>1 days</td>\n",
       "    </tr>\n",
       "    <tr>\n",
       "      <th>998</th>\n",
       "      <td>899011279</td>\n",
       "      <td>302585439</td>\n",
       "      <td>1/3/2018</td>\n",
       "      <td>3</td>\n",
       "      <td>7500</td>\n",
       "      <td>30.0</td>\n",
       "      <td>30</td>\n",
       "      <td>2018-02-02</td>\n",
       "      <td>2018-10-12</td>\n",
       "      <td>-252 days</td>\n",
       "    </tr>\n",
       "    <tr>\n",
       "      <th>999</th>\n",
       "      <td>648637210</td>\n",
       "      <td>3.02788E+11</td>\n",
       "      <td>11/19/2018</td>\n",
       "      <td>1</td>\n",
       "      <td>7500</td>\n",
       "      <td>30.0</td>\n",
       "      <td>30</td>\n",
       "      <td>2018-12-19</td>\n",
       "      <td>2018-12-17</td>\n",
       "      <td>2 days</td>\n",
       "    </tr>\n",
       "    <tr>\n",
       "      <th>1000</th>\n",
       "      <td>464788691</td>\n",
       "      <td>302683579</td>\n",
       "      <td>1/24/2018</td>\n",
       "      <td>1</td>\n",
       "      <td>7500</td>\n",
       "      <td>30.0</td>\n",
       "      <td>30</td>\n",
       "      <td>2018-02-24</td>\n",
       "      <td>2018-02-11</td>\n",
       "      <td>13 days</td>\n",
       "    </tr>\n",
       "  </tbody>\n",
       "</table>\n",
       "<p>1000 rows × 10 columns</p>\n",
       "</div>"
      ],
      "text/plain": [
       "     customerID       loanId applicationDate  LoanNumber  LoanAmount  \\\n",
       "1     839247458  3.02953E+11      12/21/2018           1        7500   \n",
       "2     217540860   3.0296E+11      12/23/2018           1        7500   \n",
       "3     522238092  3.03017E+11        1/8/2019           1        7500   \n",
       "4      96754469     3.03E+11        1/4/2019           1        7500   \n",
       "5     410354345  3.02952E+11      12/21/2018           1        7500   \n",
       "...         ...          ...             ...         ...         ...   \n",
       "996   964510149    302636726       1/15/2018           2        7500   \n",
       "997   251997198    302772445       2/13/2018           1        7500   \n",
       "998   899011279    302585439        1/3/2018           3        7500   \n",
       "999   648637210  3.02788E+11      11/19/2018           1        7500   \n",
       "1000  464788691    302683579       1/24/2018           1        7500   \n",
       "\n",
       "      InterestRate  TermDays repaymentDueDate repaymentPaidDate DateDifference  \n",
       "1             30.0        30       2019-01-20        2019-01-16         4 days  \n",
       "2             30.0        30       2019-01-22        2018-12-29        24 days  \n",
       "3             30.0        30       2019-02-07        2019-01-08        30 days  \n",
       "4             30.0        30       2019-02-03        2019-01-08        26 days  \n",
       "5             30.0        30       2019-01-20        2019-01-17         3 days  \n",
       "...            ...       ...              ...               ...            ...  \n",
       "996           30.0        30       2018-02-14        2018-01-20        25 days  \n",
       "997           30.0        30       2018-03-15        2018-03-14         1 days  \n",
       "998           30.0        30       2018-02-02        2018-10-12      -252 days  \n",
       "999           30.0        30       2018-12-19        2018-12-17         2 days  \n",
       "1000          30.0        30       2018-02-24        2018-02-11        13 days  \n",
       "\n",
       "[1000 rows x 10 columns]"
      ]
     },
     "execution_count": 13,
     "metadata": {},
     "output_type": "execute_result"
    }
   ],
   "source": [
    "easter_data"
   ]
  },
  {
   "cell_type": "code",
   "execution_count": 15,
   "id": "lyric-joyce",
   "metadata": {
    "ExecuteTime": {
     "end_time": "2021-05-08T13:26:00.978822Z",
     "start_time": "2021-05-08T13:26:00.958874Z"
    }
   },
   "outputs": [
    {
     "data": {
      "text/plain": [
       "array([ 30,  90, 180,  45,  60, 120,  15], dtype=int64)"
      ]
     },
     "execution_count": 15,
     "metadata": {},
     "output_type": "execute_result"
    }
   ],
   "source": [
    "easter_data.TermDays.unique()"
   ]
  },
  {
   "cell_type": "code",
   "execution_count": 16,
   "id": "concrete-final",
   "metadata": {
    "ExecuteTime": {
     "end_time": "2021-05-08T13:34:46.294842Z",
     "start_time": "2021-05-08T13:34:46.283839Z"
    }
   },
   "outputs": [],
   "source": [
    "grouped_data = easter_data.groupby(\"TermDays\")"
   ]
  },
  {
   "cell_type": "code",
   "execution_count": 20,
   "id": "excess-german",
   "metadata": {
    "ExecuteTime": {
     "end_time": "2021-05-08T13:42:14.842271Z",
     "start_time": "2021-05-08T13:42:14.817276Z"
    }
   },
   "outputs": [
    {
     "data": {
      "text/html": [
       "<div>\n",
       "<style scoped>\n",
       "    .dataframe tbody tr th:only-of-type {\n",
       "        vertical-align: middle;\n",
       "    }\n",
       "\n",
       "    .dataframe tbody tr th {\n",
       "        vertical-align: top;\n",
       "    }\n",
       "\n",
       "    .dataframe thead th {\n",
       "        text-align: right;\n",
       "    }\n",
       "</style>\n",
       "<table border=\"1\" class=\"dataframe\">\n",
       "  <thead>\n",
       "    <tr style=\"text-align: right;\">\n",
       "      <th></th>\n",
       "      <th>LoanNumber</th>\n",
       "      <th>LoanAmount</th>\n",
       "      <th>InterestRate</th>\n",
       "    </tr>\n",
       "    <tr>\n",
       "      <th>TermDays</th>\n",
       "      <th></th>\n",
       "      <th></th>\n",
       "      <th></th>\n",
       "    </tr>\n",
       "  </thead>\n",
       "  <tbody>\n",
       "    <tr>\n",
       "      <th>15</th>\n",
       "      <td>2.628931</td>\n",
       "      <td>1274.088050</td>\n",
       "      <td>15.000000</td>\n",
       "    </tr>\n",
       "    <tr>\n",
       "      <th>30</th>\n",
       "      <td>2.137500</td>\n",
       "      <td>7941.964286</td>\n",
       "      <td>28.562143</td>\n",
       "    </tr>\n",
       "    <tr>\n",
       "      <th>45</th>\n",
       "      <td>1.100000</td>\n",
       "      <td>10706.250000</td>\n",
       "      <td>28.732500</td>\n",
       "    </tr>\n",
       "    <tr>\n",
       "      <th>60</th>\n",
       "      <td>4.800000</td>\n",
       "      <td>25710.526316</td>\n",
       "      <td>15.055789</td>\n",
       "    </tr>\n",
       "    <tr>\n",
       "      <th>90</th>\n",
       "      <td>4.709091</td>\n",
       "      <td>37672.727273</td>\n",
       "      <td>10.645455</td>\n",
       "    </tr>\n",
       "    <tr>\n",
       "      <th>120</th>\n",
       "      <td>1.000000</td>\n",
       "      <td>45055.555556</td>\n",
       "      <td>11.666667</td>\n",
       "    </tr>\n",
       "    <tr>\n",
       "      <th>180</th>\n",
       "      <td>6.285714</td>\n",
       "      <td>80988.095238</td>\n",
       "      <td>6.250000</td>\n",
       "    </tr>\n",
       "  </tbody>\n",
       "</table>\n",
       "</div>"
      ],
      "text/plain": [
       "          LoanNumber    LoanAmount  InterestRate\n",
       "TermDays                                        \n",
       "15          2.628931   1274.088050     15.000000\n",
       "30          2.137500   7941.964286     28.562143\n",
       "45          1.100000  10706.250000     28.732500\n",
       "60          4.800000  25710.526316     15.055789\n",
       "90          4.709091  37672.727273     10.645455\n",
       "120         1.000000  45055.555556     11.666667\n",
       "180         6.285714  80988.095238      6.250000"
      ]
     },
     "execution_count": 20,
     "metadata": {},
     "output_type": "execute_result"
    }
   ],
   "source": [
    "mean_data = grouped_data.mean()\n",
    "mean_data"
   ]
  },
  {
   "cell_type": "code",
   "execution_count": 21,
   "id": "flush-password",
   "metadata": {
    "ExecuteTime": {
     "end_time": "2021-05-08T13:44:00.467686Z",
     "start_time": "2021-05-08T13:44:00.448772Z"
    }
   },
   "outputs": [
    {
     "data": {
      "text/html": [
       "<div>\n",
       "<style scoped>\n",
       "    .dataframe tbody tr th:only-of-type {\n",
       "        vertical-align: middle;\n",
       "    }\n",
       "\n",
       "    .dataframe tbody tr th {\n",
       "        vertical-align: top;\n",
       "    }\n",
       "\n",
       "    .dataframe thead th {\n",
       "        text-align: right;\n",
       "    }\n",
       "</style>\n",
       "<table border=\"1\" class=\"dataframe\">\n",
       "  <thead>\n",
       "    <tr style=\"text-align: right;\">\n",
       "      <th></th>\n",
       "      <th>LoanNumber</th>\n",
       "      <th>LoanAmount</th>\n",
       "      <th>InterestRate</th>\n",
       "    </tr>\n",
       "    <tr>\n",
       "      <th>TermDays</th>\n",
       "      <th></th>\n",
       "      <th></th>\n",
       "      <th></th>\n",
       "    </tr>\n",
       "  </thead>\n",
       "  <tbody>\n",
       "    <tr>\n",
       "      <th>15</th>\n",
       "      <td>1.712033</td>\n",
       "      <td>2885.967406</td>\n",
       "      <td>0.000000</td>\n",
       "    </tr>\n",
       "    <tr>\n",
       "      <th>30</th>\n",
       "      <td>2.059236</td>\n",
       "      <td>1606.039495</td>\n",
       "      <td>4.034005</td>\n",
       "    </tr>\n",
       "    <tr>\n",
       "      <th>45</th>\n",
       "      <td>0.341256</td>\n",
       "      <td>2346.143820</td>\n",
       "      <td>5.773965</td>\n",
       "    </tr>\n",
       "    <tr>\n",
       "      <th>60</th>\n",
       "      <td>4.939205</td>\n",
       "      <td>11559.646185</td>\n",
       "      <td>3.632352</td>\n",
       "    </tr>\n",
       "    <tr>\n",
       "      <th>90</th>\n",
       "      <td>2.891064</td>\n",
       "      <td>18050.140602</td>\n",
       "      <td>2.180963</td>\n",
       "    </tr>\n",
       "    <tr>\n",
       "      <th>120</th>\n",
       "      <td>0.000000</td>\n",
       "      <td>22192.966854</td>\n",
       "      <td>1.000000</td>\n",
       "    </tr>\n",
       "    <tr>\n",
       "      <th>180</th>\n",
       "      <td>3.808115</td>\n",
       "      <td>34612.222587</td>\n",
       "      <td>1.265152</td>\n",
       "    </tr>\n",
       "  </tbody>\n",
       "</table>\n",
       "</div>"
      ],
      "text/plain": [
       "          LoanNumber    LoanAmount  InterestRate\n",
       "TermDays                                        \n",
       "15          1.712033   2885.967406      0.000000\n",
       "30          2.059236   1606.039495      4.034005\n",
       "45          0.341256   2346.143820      5.773965\n",
       "60          4.939205  11559.646185      3.632352\n",
       "90          2.891064  18050.140602      2.180963\n",
       "120         0.000000  22192.966854      1.000000\n",
       "180         3.808115  34612.222587      1.265152"
      ]
     },
     "execution_count": 21,
     "metadata": {},
     "output_type": "execute_result"
    }
   ],
   "source": [
    "std_data = grouped_data.std()\n",
    "std_data"
   ]
  },
  {
   "cell_type": "code",
   "execution_count": 22,
   "id": "reduced-nigeria",
   "metadata": {
    "ExecuteTime": {
     "end_time": "2021-05-08T13:46:21.020443Z",
     "start_time": "2021-05-08T13:46:21.008476Z"
    }
   },
   "outputs": [
    {
     "data": {
      "text/plain": [
       "TermDays\n",
       "15      1274.088050\n",
       "30      7941.964286\n",
       "45     10706.250000\n",
       "60     25710.526316\n",
       "90     37672.727273\n",
       "120    45055.555556\n",
       "180    80988.095238\n",
       "Name: LoanAmount, dtype: float64"
      ]
     },
     "execution_count": 22,
     "metadata": {},
     "output_type": "execute_result"
    }
   ],
   "source": [
    "mean_data[\"LoanAmount\"]   ## Mean of the loan amounts within each term days. "
   ]
  },
  {
   "cell_type": "code",
   "execution_count": 23,
   "id": "unknown-bulgaria",
   "metadata": {
    "ExecuteTime": {
     "end_time": "2021-05-08T13:53:43.244411Z",
     "start_time": "2021-05-08T13:53:43.237460Z"
    }
   },
   "outputs": [
    {
     "data": {
      "text/plain": [
       "TermDays\n",
       "15      2885.967406\n",
       "30      1606.039495\n",
       "45      2346.143820\n",
       "60     11559.646185\n",
       "90     18050.140602\n",
       "120    22192.966854\n",
       "180    34612.222587\n",
       "Name: LoanAmount, dtype: float64"
      ]
     },
     "execution_count": 23,
     "metadata": {},
     "output_type": "execute_result"
    }
   ],
   "source": [
    "std_data[\"LoanAmount\"]  ## Standard deviation of the loan amounts within each term days. "
   ]
  },
  {
   "cell_type": "code",
   "execution_count": 77,
   "id": "sublime-detector",
   "metadata": {
    "ExecuteTime": {
     "end_time": "2021-05-07T13:22:00.122616Z",
     "start_time": "2021-05-07T13:22:00.100710Z"
    },
    "hide_input": false
   },
   "outputs": [
    {
     "data": {
      "text/plain": [
       "'686128144'"
      ]
     },
     "execution_count": 77,
     "metadata": {},
     "output_type": "execute_result"
    }
   ],
   "source": [
    "customer_app = easter_data[\"customerID\"].value_counts().index.to_list()  #Customer that applied for loans the most number of times.\n",
    "customer_app[0]"
   ]
  },
  {
   "cell_type": "code",
   "execution_count": 80,
   "id": "bigger-fundamental",
   "metadata": {
    "ExecuteTime": {
     "end_time": "2021-05-07T13:41:06.107198Z",
     "start_time": "2021-05-07T13:41:06.093235Z"
    }
   },
   "outputs": [
    {
     "data": {
      "text/plain": [
       "30.0"
      ]
     },
     "execution_count": 80,
     "metadata": {},
     "output_type": "execute_result"
    }
   ],
   "source": [
    "interst_rate = easter_data[\"InterestRate\"].value_counts().index[0] #Interest rate for the most number of loans application.\n",
    "interst_rate"
   ]
  },
  {
   "cell_type": "code",
   "execution_count": 25,
   "id": "primary-thread",
   "metadata": {
    "ExecuteTime": {
     "end_time": "2021-05-08T14:11:47.493365Z",
     "start_time": "2021-05-08T14:11:47.410398Z"
    }
   },
   "outputs": [],
   "source": [
    "easter_data[\"applicationDate\"] = pd.to_datetime(easter_data[\"applicationDate\"])"
   ]
  },
  {
   "cell_type": "code",
   "execution_count": 26,
   "id": "impressed-claim",
   "metadata": {
    "ExecuteTime": {
     "end_time": "2021-05-08T14:11:50.704354Z",
     "start_time": "2021-05-08T14:11:50.670477Z"
    }
   },
   "outputs": [
    {
     "data": {
      "text/html": [
       "<div>\n",
       "<style scoped>\n",
       "    .dataframe tbody tr th:only-of-type {\n",
       "        vertical-align: middle;\n",
       "    }\n",
       "\n",
       "    .dataframe tbody tr th {\n",
       "        vertical-align: top;\n",
       "    }\n",
       "\n",
       "    .dataframe thead th {\n",
       "        text-align: right;\n",
       "    }\n",
       "</style>\n",
       "<table border=\"1\" class=\"dataframe\">\n",
       "  <thead>\n",
       "    <tr style=\"text-align: right;\">\n",
       "      <th></th>\n",
       "      <th>customerID</th>\n",
       "      <th>loanId</th>\n",
       "      <th>applicationDate</th>\n",
       "      <th>LoanNumber</th>\n",
       "      <th>LoanAmount</th>\n",
       "      <th>InterestRate</th>\n",
       "      <th>TermDays</th>\n",
       "      <th>repaymentDueDate</th>\n",
       "      <th>repaymentPaidDate</th>\n",
       "      <th>DateDifference</th>\n",
       "    </tr>\n",
       "  </thead>\n",
       "  <tbody>\n",
       "    <tr>\n",
       "      <th>1</th>\n",
       "      <td>839247458</td>\n",
       "      <td>3.02953E+11</td>\n",
       "      <td>2018-12-21</td>\n",
       "      <td>1</td>\n",
       "      <td>7500</td>\n",
       "      <td>30.0</td>\n",
       "      <td>30</td>\n",
       "      <td>2019-01-20</td>\n",
       "      <td>2019-01-16</td>\n",
       "      <td>4 days</td>\n",
       "    </tr>\n",
       "    <tr>\n",
       "      <th>2</th>\n",
       "      <td>217540860</td>\n",
       "      <td>3.0296E+11</td>\n",
       "      <td>2018-12-23</td>\n",
       "      <td>1</td>\n",
       "      <td>7500</td>\n",
       "      <td>30.0</td>\n",
       "      <td>30</td>\n",
       "      <td>2019-01-22</td>\n",
       "      <td>2018-12-29</td>\n",
       "      <td>24 days</td>\n",
       "    </tr>\n",
       "    <tr>\n",
       "      <th>3</th>\n",
       "      <td>522238092</td>\n",
       "      <td>3.03017E+11</td>\n",
       "      <td>2019-01-08</td>\n",
       "      <td>1</td>\n",
       "      <td>7500</td>\n",
       "      <td>30.0</td>\n",
       "      <td>30</td>\n",
       "      <td>2019-02-07</td>\n",
       "      <td>2019-01-08</td>\n",
       "      <td>30 days</td>\n",
       "    </tr>\n",
       "    <tr>\n",
       "      <th>4</th>\n",
       "      <td>96754469</td>\n",
       "      <td>3.03E+11</td>\n",
       "      <td>2019-01-04</td>\n",
       "      <td>1</td>\n",
       "      <td>7500</td>\n",
       "      <td>30.0</td>\n",
       "      <td>30</td>\n",
       "      <td>2019-02-03</td>\n",
       "      <td>2019-01-08</td>\n",
       "      <td>26 days</td>\n",
       "    </tr>\n",
       "    <tr>\n",
       "      <th>5</th>\n",
       "      <td>410354345</td>\n",
       "      <td>3.02952E+11</td>\n",
       "      <td>2018-12-21</td>\n",
       "      <td>1</td>\n",
       "      <td>7500</td>\n",
       "      <td>30.0</td>\n",
       "      <td>30</td>\n",
       "      <td>2019-01-20</td>\n",
       "      <td>2019-01-17</td>\n",
       "      <td>3 days</td>\n",
       "    </tr>\n",
       "    <tr>\n",
       "      <th>...</th>\n",
       "      <td>...</td>\n",
       "      <td>...</td>\n",
       "      <td>...</td>\n",
       "      <td>...</td>\n",
       "      <td>...</td>\n",
       "      <td>...</td>\n",
       "      <td>...</td>\n",
       "      <td>...</td>\n",
       "      <td>...</td>\n",
       "      <td>...</td>\n",
       "    </tr>\n",
       "    <tr>\n",
       "      <th>996</th>\n",
       "      <td>964510149</td>\n",
       "      <td>302636726</td>\n",
       "      <td>2018-01-15</td>\n",
       "      <td>2</td>\n",
       "      <td>7500</td>\n",
       "      <td>30.0</td>\n",
       "      <td>30</td>\n",
       "      <td>2018-02-14</td>\n",
       "      <td>2018-01-20</td>\n",
       "      <td>25 days</td>\n",
       "    </tr>\n",
       "    <tr>\n",
       "      <th>997</th>\n",
       "      <td>251997198</td>\n",
       "      <td>302772445</td>\n",
       "      <td>2018-02-13</td>\n",
       "      <td>1</td>\n",
       "      <td>7500</td>\n",
       "      <td>30.0</td>\n",
       "      <td>30</td>\n",
       "      <td>2018-03-15</td>\n",
       "      <td>2018-03-14</td>\n",
       "      <td>1 days</td>\n",
       "    </tr>\n",
       "    <tr>\n",
       "      <th>998</th>\n",
       "      <td>899011279</td>\n",
       "      <td>302585439</td>\n",
       "      <td>2018-01-03</td>\n",
       "      <td>3</td>\n",
       "      <td>7500</td>\n",
       "      <td>30.0</td>\n",
       "      <td>30</td>\n",
       "      <td>2018-02-02</td>\n",
       "      <td>2018-10-12</td>\n",
       "      <td>-252 days</td>\n",
       "    </tr>\n",
       "    <tr>\n",
       "      <th>999</th>\n",
       "      <td>648637210</td>\n",
       "      <td>3.02788E+11</td>\n",
       "      <td>2018-11-19</td>\n",
       "      <td>1</td>\n",
       "      <td>7500</td>\n",
       "      <td>30.0</td>\n",
       "      <td>30</td>\n",
       "      <td>2018-12-19</td>\n",
       "      <td>2018-12-17</td>\n",
       "      <td>2 days</td>\n",
       "    </tr>\n",
       "    <tr>\n",
       "      <th>1000</th>\n",
       "      <td>464788691</td>\n",
       "      <td>302683579</td>\n",
       "      <td>2018-01-24</td>\n",
       "      <td>1</td>\n",
       "      <td>7500</td>\n",
       "      <td>30.0</td>\n",
       "      <td>30</td>\n",
       "      <td>2018-02-24</td>\n",
       "      <td>2018-02-11</td>\n",
       "      <td>13 days</td>\n",
       "    </tr>\n",
       "  </tbody>\n",
       "</table>\n",
       "<p>1000 rows × 10 columns</p>\n",
       "</div>"
      ],
      "text/plain": [
       "     customerID       loanId applicationDate  LoanNumber  LoanAmount  \\\n",
       "1     839247458  3.02953E+11      2018-12-21           1        7500   \n",
       "2     217540860   3.0296E+11      2018-12-23           1        7500   \n",
       "3     522238092  3.03017E+11      2019-01-08           1        7500   \n",
       "4      96754469     3.03E+11      2019-01-04           1        7500   \n",
       "5     410354345  3.02952E+11      2018-12-21           1        7500   \n",
       "...         ...          ...             ...         ...         ...   \n",
       "996   964510149    302636726      2018-01-15           2        7500   \n",
       "997   251997198    302772445      2018-02-13           1        7500   \n",
       "998   899011279    302585439      2018-01-03           3        7500   \n",
       "999   648637210  3.02788E+11      2018-11-19           1        7500   \n",
       "1000  464788691    302683579      2018-01-24           1        7500   \n",
       "\n",
       "      InterestRate  TermDays repaymentDueDate repaymentPaidDate DateDifference  \n",
       "1             30.0        30       2019-01-20        2019-01-16         4 days  \n",
       "2             30.0        30       2019-01-22        2018-12-29        24 days  \n",
       "3             30.0        30       2019-02-07        2019-01-08        30 days  \n",
       "4             30.0        30       2019-02-03        2019-01-08        26 days  \n",
       "5             30.0        30       2019-01-20        2019-01-17         3 days  \n",
       "...            ...       ...              ...               ...            ...  \n",
       "996           30.0        30       2018-02-14        2018-01-20        25 days  \n",
       "997           30.0        30       2018-03-15        2018-03-14         1 days  \n",
       "998           30.0        30       2018-02-02        2018-10-12      -252 days  \n",
       "999           30.0        30       2018-12-19        2018-12-17         2 days  \n",
       "1000          30.0        30       2018-02-24        2018-02-11        13 days  \n",
       "\n",
       "[1000 rows x 10 columns]"
      ]
     },
     "execution_count": 26,
     "metadata": {},
     "output_type": "execute_result"
    }
   ],
   "source": [
    "easter_data"
   ]
  },
  {
   "cell_type": "code",
   "execution_count": 32,
   "id": "superior-stretch",
   "metadata": {
    "ExecuteTime": {
     "end_time": "2021-05-08T14:18:37.196661Z",
     "start_time": "2021-05-08T14:18:37.173657Z"
    }
   },
   "outputs": [
    {
     "data": {
      "text/plain": [
       "1       3\n",
       "2       6\n",
       "3       2\n",
       "4       2\n",
       "5       4\n",
       "       ..\n",
       "996     6\n",
       "997     3\n",
       "998     5\n",
       "999     1\n",
       "1000    7\n",
       "Name: day, Length: 1000, dtype: UInt32"
      ]
     },
     "execution_count": 32,
     "metadata": {},
     "output_type": "execute_result"
    }
   ],
   "source": [
    "conv_days = easter_data[\"repaymentPaidDate\"].dt.isocalendar().day \n",
    "conv_days"
   ]
  },
  {
   "cell_type": "code",
   "execution_count": 45,
   "id": "hydraulic-stream",
   "metadata": {
    "ExecuteTime": {
     "end_time": "2021-05-08T14:31:11.450996Z",
     "start_time": "2021-05-08T14:31:11.438030Z"
    }
   },
   "outputs": [
    {
     "data": {
      "text/plain": [
       "3.6"
      ]
     },
     "execution_count": 45,
     "metadata": {},
     "output_type": "execute_result"
    }
   ],
   "source": [
    "round(conv_days.mean(), 1) ##Average number of days that late loans were paid."
   ]
  },
  {
   "cell_type": "code",
   "execution_count": 28,
   "id": "sonic-pixel",
   "metadata": {
    "ExecuteTime": {
     "end_time": "2021-05-08T14:11:58.521781Z",
     "start_time": "2021-05-08T14:11:58.432911Z"
    }
   },
   "outputs": [
    {
     "data": {
      "text/plain": [
       "12"
      ]
     },
     "execution_count": 28,
     "metadata": {},
     "output_type": "execute_result"
    }
   ],
   "source": [
    "morethan_once = easter_data[\"customerID\"].value_counts() ##Customers that applied for loans more than once.\n",
    "morethan_once\n",
    "morethan_once.loc[morethan_once > 1].count()"
   ]
  },
  {
   "cell_type": "code",
   "execution_count": 29,
   "id": "selective-superior",
   "metadata": {
    "ExecuteTime": {
     "end_time": "2021-05-08T14:12:02.217075Z",
     "start_time": "2021-05-08T14:12:02.171651Z"
    }
   },
   "outputs": [
    {
     "data": {
      "text/plain": [
       "1       51\n",
       "2       51\n",
       "3        2\n",
       "4        1\n",
       "5       51\n",
       "        ..\n",
       "996      3\n",
       "997      7\n",
       "998      1\n",
       "999     47\n",
       "1000     4\n",
       "Name: week, Length: 1000, dtype: UInt32"
      ]
     },
     "execution_count": 29,
     "metadata": {},
     "output_type": "execute_result"
    }
   ],
   "source": [
    "app_weeks = easter_data[\"applicationDate\"].dt.isocalendar().week\n",
    "app_weeks"
   ]
  },
  {
   "cell_type": "code",
   "execution_count": 30,
   "id": "constant-relationship",
   "metadata": {
    "ExecuteTime": {
     "end_time": "2021-05-08T14:12:09.164290Z",
     "start_time": "2021-05-08T14:12:09.093804Z"
    }
   },
   "outputs": [
    {
     "data": {
      "text/plain": [
       "51"
      ]
     },
     "execution_count": 30,
     "metadata": {},
     "output_type": "execute_result"
    }
   ],
   "source": [
    "app_weeks.value_counts().index[0] ##week with the most loan application \n"
   ]
  },
  {
   "cell_type": "code",
   "execution_count": 31,
   "id": "after-penguin",
   "metadata": {
    "ExecuteTime": {
     "end_time": "2021-05-08T14:13:30.627844Z",
     "start_time": "2021-05-08T14:13:30.618866Z"
    }
   },
   "outputs": [
    {
     "data": {
      "text/plain": [
       "27"
      ]
     },
     "execution_count": 31,
     "metadata": {},
     "output_type": "execute_result"
    }
   ],
   "source": [
    "app_weeks.value_counts().index[-1] ##week with the least loan application"
   ]
  }
 ],
 "metadata": {
  "kernelspec": {
   "display_name": "Python 3",
   "language": "python",
   "name": "python3"
  },
  "language_info": {
   "codemirror_mode": {
    "name": "ipython",
    "version": 3
   },
   "file_extension": ".py",
   "mimetype": "text/x-python",
   "name": "python",
   "nbconvert_exporter": "python",
   "pygments_lexer": "ipython3",
   "version": "3.7.9"
  },
  "toc": {
   "base_numbering": 1,
   "nav_menu": {},
   "number_sections": true,
   "sideBar": true,
   "skip_h1_title": false,
   "title_cell": "Table of Contents",
   "title_sidebar": "Contents",
   "toc_cell": false,
   "toc_position": {},
   "toc_section_display": true,
   "toc_window_display": false
  },
  "varInspector": {
   "cols": {
    "lenName": 16,
    "lenType": 16,
    "lenVar": 40
   },
   "kernels_config": {
    "python": {
     "delete_cmd_postfix": "",
     "delete_cmd_prefix": "del ",
     "library": "var_list.py",
     "varRefreshCmd": "print(var_dic_list())"
    },
    "r": {
     "delete_cmd_postfix": ") ",
     "delete_cmd_prefix": "rm(",
     "library": "var_list.r",
     "varRefreshCmd": "cat(var_dic_list()) "
    }
   },
   "types_to_exclude": [
    "module",
    "function",
    "builtin_function_or_method",
    "instance",
    "_Feature"
   ],
   "window_display": false
  }
 },
 "nbformat": 4,
 "nbformat_minor": 5
}
