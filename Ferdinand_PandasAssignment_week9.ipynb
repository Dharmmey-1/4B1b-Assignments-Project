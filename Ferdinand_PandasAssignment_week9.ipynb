{
 "cells": [
  {
   "cell_type": "code",
   "execution_count": 4,
   "id": "offensive-haiti",
   "metadata": {
    "ExecuteTime": {
     "end_time": "2021-04-29T11:07:36.312383Z",
     "start_time": "2021-04-29T11:07:35.847243Z"
    }
   },
   "outputs": [],
   "source": [
    "import pandas as pd"
   ]
  },
  {
   "cell_type": "code",
   "execution_count": 22,
   "id": "revised-hawaiian",
   "metadata": {
    "code_folding": []
   },
   "outputs": [],
   "source": [
    "# files = pd.read_csv(\"/Users/drizzytom/Documents/PHYTHON/Data_Sci/lotofdata/001.csv\")"
   ]
  },
  {
   "cell_type": "code",
   "execution_count": 37,
   "id": "arranged-ordinance",
   "metadata": {},
   "outputs": [],
   "source": [
    "### concatenate all the files contained in lots of data folder to one dataframe.\n",
    "\n",
    "all_files = []\n",
    "\n",
    "for i in range(1, 333):\n",
    "    if i >= 100:\n",
    "        all_files.append(pd.read_csv(f\"/Users/drizzytom/Documents/PHYTHON/Data_Sci/lotofdata/{i}.csv\"))\n",
    "    elif i >= 10:\n",
    "        all_files.append(pd.read_csv(f\"/Users/drizzytom/Documents/PHYTHON/Data_Sci/lotofdata/0{i}.csv\"))\n",
    "    else:\n",
    "        all_files.append(pd.read_csv(f\"/Users/drizzytom/Documents/PHYTHON/Data_Sci/lotofdata/00{i}.csv\"))\n",
    "   "
   ]
  },
  {
   "cell_type": "code",
   "execution_count": 39,
   "id": "dynamic-excitement",
   "metadata": {},
   "outputs": [],
   "source": [
    "files = pd.concat(all_files, axis = 0, ignore_index = True)"
   ]
  },
  {
   "cell_type": "code",
   "execution_count": 40,
   "id": "medium-career",
   "metadata": {},
   "outputs": [
    {
     "name": "stdout",
     "output_type": "stream",
     "text": [
      "<class 'pandas.core.frame.DataFrame'>\n",
      "RangeIndex: 772087 entries, 0 to 772086\n",
      "Data columns (total 4 columns):\n",
      " #   Column   Non-Null Count   Dtype  \n",
      "---  ------   --------------   -----  \n",
      " 0   Date     772087 non-null  object \n",
      " 1   sulfate  118783 non-null  float64\n",
      " 2   nitrate  114349 non-null  float64\n",
      " 3   ID       772087 non-null  int64  \n",
      "dtypes: float64(2), int64(1), object(1)\n",
      "memory usage: 23.6+ MB\n"
     ]
    }
   ],
   "source": [
    "files.info()"
   ]
  },
  {
   "cell_type": "code",
   "execution_count": 42,
   "id": "three-louisiana",
   "metadata": {},
   "outputs": [
    {
     "data": {
      "text/plain": [
       "(772087, 4)"
      ]
     },
     "execution_count": 42,
     "metadata": {},
     "output_type": "execute_result"
    }
   ],
   "source": [
    "files.shape"
   ]
  },
  {
   "cell_type": "code",
   "execution_count": null,
   "id": "crude-thompson",
   "metadata": {},
   "outputs": [],
   "source": [
    "files.tail()"
   ]
  },
  {
   "cell_type": "code",
   "execution_count": 45,
   "id": "romantic-pendant",
   "metadata": {},
   "outputs": [],
   "source": [
    "files.set_index(pd.Index([num for num in range(1, len(files) + 1)]), inplace = True)"
   ]
  },
  {
   "cell_type": "code",
   "execution_count": 46,
   "id": "electoral-lotus",
   "metadata": {},
   "outputs": [
    {
     "data": {
      "text/html": [
       "<div>\n",
       "<style scoped>\n",
       "    .dataframe tbody tr th:only-of-type {\n",
       "        vertical-align: middle;\n",
       "    }\n",
       "\n",
       "    .dataframe tbody tr th {\n",
       "        vertical-align: top;\n",
       "    }\n",
       "\n",
       "    .dataframe thead th {\n",
       "        text-align: right;\n",
       "    }\n",
       "</style>\n",
       "<table border=\"1\" class=\"dataframe\">\n",
       "  <thead>\n",
       "    <tr style=\"text-align: right;\">\n",
       "      <th></th>\n",
       "      <th>Date</th>\n",
       "      <th>sulfate</th>\n",
       "      <th>nitrate</th>\n",
       "      <th>ID</th>\n",
       "    </tr>\n",
       "  </thead>\n",
       "  <tbody>\n",
       "    <tr>\n",
       "      <th>1</th>\n",
       "      <td>2003-01-01</td>\n",
       "      <td>NaN</td>\n",
       "      <td>NaN</td>\n",
       "      <td>1</td>\n",
       "    </tr>\n",
       "    <tr>\n",
       "      <th>2</th>\n",
       "      <td>2003-01-02</td>\n",
       "      <td>NaN</td>\n",
       "      <td>NaN</td>\n",
       "      <td>1</td>\n",
       "    </tr>\n",
       "    <tr>\n",
       "      <th>3</th>\n",
       "      <td>2003-01-03</td>\n",
       "      <td>NaN</td>\n",
       "      <td>NaN</td>\n",
       "      <td>1</td>\n",
       "    </tr>\n",
       "    <tr>\n",
       "      <th>4</th>\n",
       "      <td>2003-01-04</td>\n",
       "      <td>NaN</td>\n",
       "      <td>NaN</td>\n",
       "      <td>1</td>\n",
       "    </tr>\n",
       "    <tr>\n",
       "      <th>5</th>\n",
       "      <td>2003-01-05</td>\n",
       "      <td>NaN</td>\n",
       "      <td>NaN</td>\n",
       "      <td>1</td>\n",
       "    </tr>\n",
       "  </tbody>\n",
       "</table>\n",
       "</div>"
      ],
      "text/plain": [
       "         Date  sulfate  nitrate  ID\n",
       "1  2003-01-01      NaN      NaN   1\n",
       "2  2003-01-02      NaN      NaN   1\n",
       "3  2003-01-03      NaN      NaN   1\n",
       "4  2003-01-04      NaN      NaN   1\n",
       "5  2003-01-05      NaN      NaN   1"
      ]
     },
     "execution_count": 46,
     "metadata": {},
     "output_type": "execute_result"
    }
   ],
   "source": [
    "files.head()"
   ]
  },
  {
   "cell_type": "code",
   "execution_count": null,
   "id": "interesting-bangkok",
   "metadata": {},
   "outputs": [],
   "source": []
  },
  {
   "cell_type": "code",
   "execution_count": 17,
   "id": "acquired-editor",
   "metadata": {
    "ExecuteTime": {
     "end_time": "2021-04-29T11:07:50.639315Z",
     "start_time": "2021-04-29T11:07:50.612716Z"
    }
   },
   "outputs": [],
   "source": [
    "loan_f = pd.read_csv(\"application_data.csv\")"
   ]
  },
  {
   "cell_type": "code",
   "execution_count": 18,
   "id": "numerous-qatar",
   "metadata": {},
   "outputs": [
    {
     "name": "stdout",
     "output_type": "stream",
     "text": [
      "<class 'pandas.core.frame.DataFrame'>\n",
      "RangeIndex: 1000 entries, 0 to 999\n",
      "Data columns (total 9 columns):\n",
      " #   Column             Non-Null Count  Dtype  \n",
      "---  ------             --------------  -----  \n",
      " 0   customerID         1000 non-null   object \n",
      " 1   loanId             1000 non-null   object \n",
      " 2   applicationDate    1000 non-null   object \n",
      " 3   LoanNumber         1000 non-null   int64  \n",
      " 4   LoanAmount         1000 non-null   int64  \n",
      " 5   InterestRate       1000 non-null   float64\n",
      " 6   TermDays           1000 non-null   int64  \n",
      " 7   repaymentDueDate   1000 non-null   object \n",
      " 8   repaymentPaidDate  1000 non-null   object \n",
      "dtypes: float64(1), int64(3), object(5)\n",
      "memory usage: 70.4+ KB\n"
     ]
    }
   ],
   "source": [
    "loan_f.info()"
   ]
  },
  {
   "cell_type": "code",
   "execution_count": 19,
   "id": "italian-grave",
   "metadata": {},
   "outputs": [
    {
     "data": {
      "text/html": [
       "<div>\n",
       "<style scoped>\n",
       "    .dataframe tbody tr th:only-of-type {\n",
       "        vertical-align: middle;\n",
       "    }\n",
       "\n",
       "    .dataframe tbody tr th {\n",
       "        vertical-align: top;\n",
       "    }\n",
       "\n",
       "    .dataframe thead th {\n",
       "        text-align: right;\n",
       "    }\n",
       "</style>\n",
       "<table border=\"1\" class=\"dataframe\">\n",
       "  <thead>\n",
       "    <tr style=\"text-align: right;\">\n",
       "      <th></th>\n",
       "      <th>customerID</th>\n",
       "      <th>loanId</th>\n",
       "      <th>applicationDate</th>\n",
       "      <th>LoanNumber</th>\n",
       "      <th>LoanAmount</th>\n",
       "      <th>InterestRate</th>\n",
       "      <th>TermDays</th>\n",
       "      <th>repaymentDueDate</th>\n",
       "      <th>repaymentPaidDate</th>\n",
       "    </tr>\n",
       "  </thead>\n",
       "  <tbody>\n",
       "    <tr>\n",
       "      <th>0</th>\n",
       "      <td>839247458</td>\n",
       "      <td>3.02953E+11</td>\n",
       "      <td>12/21/2018</td>\n",
       "      <td>1</td>\n",
       "      <td>7500</td>\n",
       "      <td>30.0</td>\n",
       "      <td>30</td>\n",
       "      <td>1/20/2019</td>\n",
       "      <td>1/16/2019</td>\n",
       "    </tr>\n",
       "    <tr>\n",
       "      <th>1</th>\n",
       "      <td>217540860</td>\n",
       "      <td>3.0296E+11</td>\n",
       "      <td>12/23/2018</td>\n",
       "      <td>1</td>\n",
       "      <td>7500</td>\n",
       "      <td>30.0</td>\n",
       "      <td>30</td>\n",
       "      <td>1/22/2019</td>\n",
       "      <td>12/29/2018</td>\n",
       "    </tr>\n",
       "    <tr>\n",
       "      <th>2</th>\n",
       "      <td>522238092</td>\n",
       "      <td>3.03017E+11</td>\n",
       "      <td>1/8/2019</td>\n",
       "      <td>1</td>\n",
       "      <td>7500</td>\n",
       "      <td>30.0</td>\n",
       "      <td>30</td>\n",
       "      <td>2/7/2019</td>\n",
       "      <td>1/8/2019</td>\n",
       "    </tr>\n",
       "    <tr>\n",
       "      <th>3</th>\n",
       "      <td>96754469</td>\n",
       "      <td>3.03E+11</td>\n",
       "      <td>1/4/2019</td>\n",
       "      <td>1</td>\n",
       "      <td>7500</td>\n",
       "      <td>30.0</td>\n",
       "      <td>30</td>\n",
       "      <td>2/3/2019</td>\n",
       "      <td>1/8/2019</td>\n",
       "    </tr>\n",
       "    <tr>\n",
       "      <th>4</th>\n",
       "      <td>410354345</td>\n",
       "      <td>3.02952E+11</td>\n",
       "      <td>12/21/2018</td>\n",
       "      <td>1</td>\n",
       "      <td>7500</td>\n",
       "      <td>30.0</td>\n",
       "      <td>30</td>\n",
       "      <td>1/20/2019</td>\n",
       "      <td>1/17/2019</td>\n",
       "    </tr>\n",
       "    <tr>\n",
       "      <th>5</th>\n",
       "      <td>27610141</td>\n",
       "      <td>3.02956E+11</td>\n",
       "      <td>12/22/2018</td>\n",
       "      <td>6</td>\n",
       "      <td>45000</td>\n",
       "      <td>10.0</td>\n",
       "      <td>90</td>\n",
       "      <td>3/21/2019</td>\n",
       "      <td>1/9/2019</td>\n",
       "    </tr>\n",
       "    <tr>\n",
       "      <th>6</th>\n",
       "      <td>390748423</td>\n",
       "      <td>3.02942E+11</td>\n",
       "      <td>12/19/2018</td>\n",
       "      <td>4</td>\n",
       "      <td>90000</td>\n",
       "      <td>5.0</td>\n",
       "      <td>180</td>\n",
       "      <td>6/18/2019</td>\n",
       "      <td>1/15/2019</td>\n",
       "    </tr>\n",
       "    <tr>\n",
       "      <th>7</th>\n",
       "      <td>642947351</td>\n",
       "      <td>3.02946E+11</td>\n",
       "      <td>12/19/2018</td>\n",
       "      <td>3</td>\n",
       "      <td>45000</td>\n",
       "      <td>10.0</td>\n",
       "      <td>90</td>\n",
       "      <td>3/19/2019</td>\n",
       "      <td>1/16/2019</td>\n",
       "    </tr>\n",
       "    <tr>\n",
       "      <th>8</th>\n",
       "      <td>227382168</td>\n",
       "      <td>3.02953E+11</td>\n",
       "      <td>12/21/2018</td>\n",
       "      <td>4</td>\n",
       "      <td>45000</td>\n",
       "      <td>10.0</td>\n",
       "      <td>90</td>\n",
       "      <td>3/20/2019</td>\n",
       "      <td>1/16/2019</td>\n",
       "    </tr>\n",
       "    <tr>\n",
       "      <th>9</th>\n",
       "      <td>380684555</td>\n",
       "      <td>3.02998E+11</td>\n",
       "      <td>1/3/2019</td>\n",
       "      <td>4</td>\n",
       "      <td>30000</td>\n",
       "      <td>10.0</td>\n",
       "      <td>90</td>\n",
       "      <td>4/2/2019</td>\n",
       "      <td>1/11/2019</td>\n",
       "    </tr>\n",
       "  </tbody>\n",
       "</table>\n",
       "</div>"
      ],
      "text/plain": [
       "  customerID       loanId applicationDate  LoanNumber  LoanAmount  \\\n",
       "0  839247458  3.02953E+11      12/21/2018           1        7500   \n",
       "1  217540860   3.0296E+11      12/23/2018           1        7500   \n",
       "2  522238092  3.03017E+11        1/8/2019           1        7500   \n",
       "3   96754469     3.03E+11        1/4/2019           1        7500   \n",
       "4  410354345  3.02952E+11      12/21/2018           1        7500   \n",
       "5   27610141  3.02956E+11      12/22/2018           6       45000   \n",
       "6  390748423  3.02942E+11      12/19/2018           4       90000   \n",
       "7  642947351  3.02946E+11      12/19/2018           3       45000   \n",
       "8  227382168  3.02953E+11      12/21/2018           4       45000   \n",
       "9  380684555  3.02998E+11        1/3/2019           4       30000   \n",
       "\n",
       "   InterestRate  TermDays repaymentDueDate repaymentPaidDate  \n",
       "0          30.0        30        1/20/2019         1/16/2019  \n",
       "1          30.0        30        1/22/2019        12/29/2018  \n",
       "2          30.0        30         2/7/2019          1/8/2019  \n",
       "3          30.0        30         2/3/2019          1/8/2019  \n",
       "4          30.0        30        1/20/2019         1/17/2019  \n",
       "5          10.0        90        3/21/2019          1/9/2019  \n",
       "6           5.0       180        6/18/2019         1/15/2019  \n",
       "7          10.0        90        3/19/2019         1/16/2019  \n",
       "8          10.0        90        3/20/2019         1/16/2019  \n",
       "9          10.0        90         4/2/2019         1/11/2019  "
      ]
     },
     "execution_count": 19,
     "metadata": {},
     "output_type": "execute_result"
    }
   ],
   "source": [
    "loan_f.head(10)"
   ]
  },
  {
   "cell_type": "code",
   "execution_count": 20,
   "id": "characteristic-initial",
   "metadata": {},
   "outputs": [],
   "source": [
    "loan_f.set_index(pd.Index([num for num in range (1, len(loan_f) + 1)]), inplace = True)"
   ]
  },
  {
   "cell_type": "code",
   "execution_count": 51,
   "id": "military-numbers",
   "metadata": {},
   "outputs": [
    {
     "data": {
      "text/html": [
       "<div>\n",
       "<style scoped>\n",
       "    .dataframe tbody tr th:only-of-type {\n",
       "        vertical-align: middle;\n",
       "    }\n",
       "\n",
       "    .dataframe tbody tr th {\n",
       "        vertical-align: top;\n",
       "    }\n",
       "\n",
       "    .dataframe thead th {\n",
       "        text-align: right;\n",
       "    }\n",
       "</style>\n",
       "<table border=\"1\" class=\"dataframe\">\n",
       "  <thead>\n",
       "    <tr style=\"text-align: right;\">\n",
       "      <th></th>\n",
       "      <th>customerID</th>\n",
       "      <th>loanId</th>\n",
       "      <th>applicationDate</th>\n",
       "      <th>LoanNumber</th>\n",
       "      <th>LoanAmount</th>\n",
       "      <th>InterestRate</th>\n",
       "      <th>TermDays</th>\n",
       "      <th>repaymentDueDate</th>\n",
       "      <th>repaymentPaidDate</th>\n",
       "    </tr>\n",
       "  </thead>\n",
       "  <tbody>\n",
       "    <tr>\n",
       "      <th>1</th>\n",
       "      <td>839247458</td>\n",
       "      <td>3.02953E+11</td>\n",
       "      <td>12/21/2018</td>\n",
       "      <td>1</td>\n",
       "      <td>7500</td>\n",
       "      <td>30.0</td>\n",
       "      <td>30</td>\n",
       "      <td>1/20/2019</td>\n",
       "      <td>1/16/2019</td>\n",
       "    </tr>\n",
       "    <tr>\n",
       "      <th>2</th>\n",
       "      <td>217540860</td>\n",
       "      <td>3.0296E+11</td>\n",
       "      <td>12/23/2018</td>\n",
       "      <td>1</td>\n",
       "      <td>7500</td>\n",
       "      <td>30.0</td>\n",
       "      <td>30</td>\n",
       "      <td>1/22/2019</td>\n",
       "      <td>12/29/2018</td>\n",
       "    </tr>\n",
       "    <tr>\n",
       "      <th>3</th>\n",
       "      <td>522238092</td>\n",
       "      <td>3.03017E+11</td>\n",
       "      <td>1/8/2019</td>\n",
       "      <td>1</td>\n",
       "      <td>7500</td>\n",
       "      <td>30.0</td>\n",
       "      <td>30</td>\n",
       "      <td>2/7/2019</td>\n",
       "      <td>1/8/2019</td>\n",
       "    </tr>\n",
       "    <tr>\n",
       "      <th>4</th>\n",
       "      <td>96754469</td>\n",
       "      <td>3.03E+11</td>\n",
       "      <td>1/4/2019</td>\n",
       "      <td>1</td>\n",
       "      <td>7500</td>\n",
       "      <td>30.0</td>\n",
       "      <td>30</td>\n",
       "      <td>2/3/2019</td>\n",
       "      <td>1/8/2019</td>\n",
       "    </tr>\n",
       "    <tr>\n",
       "      <th>5</th>\n",
       "      <td>410354345</td>\n",
       "      <td>3.02952E+11</td>\n",
       "      <td>12/21/2018</td>\n",
       "      <td>1</td>\n",
       "      <td>7500</td>\n",
       "      <td>30.0</td>\n",
       "      <td>30</td>\n",
       "      <td>1/20/2019</td>\n",
       "      <td>1/17/2019</td>\n",
       "    </tr>\n",
       "    <tr>\n",
       "      <th>6</th>\n",
       "      <td>27610141</td>\n",
       "      <td>3.02956E+11</td>\n",
       "      <td>12/22/2018</td>\n",
       "      <td>6</td>\n",
       "      <td>45000</td>\n",
       "      <td>10.0</td>\n",
       "      <td>90</td>\n",
       "      <td>3/21/2019</td>\n",
       "      <td>1/9/2019</td>\n",
       "    </tr>\n",
       "    <tr>\n",
       "      <th>7</th>\n",
       "      <td>390748423</td>\n",
       "      <td>3.02942E+11</td>\n",
       "      <td>12/19/2018</td>\n",
       "      <td>4</td>\n",
       "      <td>90000</td>\n",
       "      <td>5.0</td>\n",
       "      <td>180</td>\n",
       "      <td>6/18/2019</td>\n",
       "      <td>1/15/2019</td>\n",
       "    </tr>\n",
       "    <tr>\n",
       "      <th>8</th>\n",
       "      <td>642947351</td>\n",
       "      <td>3.02946E+11</td>\n",
       "      <td>12/19/2018</td>\n",
       "      <td>3</td>\n",
       "      <td>45000</td>\n",
       "      <td>10.0</td>\n",
       "      <td>90</td>\n",
       "      <td>3/19/2019</td>\n",
       "      <td>1/16/2019</td>\n",
       "    </tr>\n",
       "    <tr>\n",
       "      <th>9</th>\n",
       "      <td>227382168</td>\n",
       "      <td>3.02953E+11</td>\n",
       "      <td>12/21/2018</td>\n",
       "      <td>4</td>\n",
       "      <td>45000</td>\n",
       "      <td>10.0</td>\n",
       "      <td>90</td>\n",
       "      <td>3/20/2019</td>\n",
       "      <td>1/16/2019</td>\n",
       "    </tr>\n",
       "    <tr>\n",
       "      <th>10</th>\n",
       "      <td>380684555</td>\n",
       "      <td>3.02998E+11</td>\n",
       "      <td>1/3/2019</td>\n",
       "      <td>4</td>\n",
       "      <td>30000</td>\n",
       "      <td>10.0</td>\n",
       "      <td>90</td>\n",
       "      <td>4/2/2019</td>\n",
       "      <td>1/11/2019</td>\n",
       "    </tr>\n",
       "  </tbody>\n",
       "</table>\n",
       "</div>"
      ],
      "text/plain": [
       "   customerID       loanId applicationDate  LoanNumber  LoanAmount  \\\n",
       "1   839247458  3.02953E+11      12/21/2018           1        7500   \n",
       "2   217540860   3.0296E+11      12/23/2018           1        7500   \n",
       "3   522238092  3.03017E+11        1/8/2019           1        7500   \n",
       "4    96754469     3.03E+11        1/4/2019           1        7500   \n",
       "5   410354345  3.02952E+11      12/21/2018           1        7500   \n",
       "6    27610141  3.02956E+11      12/22/2018           6       45000   \n",
       "7   390748423  3.02942E+11      12/19/2018           4       90000   \n",
       "8   642947351  3.02946E+11      12/19/2018           3       45000   \n",
       "9   227382168  3.02953E+11      12/21/2018           4       45000   \n",
       "10  380684555  3.02998E+11        1/3/2019           4       30000   \n",
       "\n",
       "    InterestRate  TermDays repaymentDueDate repaymentPaidDate  \n",
       "1           30.0        30        1/20/2019         1/16/2019  \n",
       "2           30.0        30        1/22/2019        12/29/2018  \n",
       "3           30.0        30         2/7/2019          1/8/2019  \n",
       "4           30.0        30         2/3/2019          1/8/2019  \n",
       "5           30.0        30        1/20/2019         1/17/2019  \n",
       "6           10.0        90        3/21/2019          1/9/2019  \n",
       "7            5.0       180        6/18/2019         1/15/2019  \n",
       "8           10.0        90        3/19/2019         1/16/2019  \n",
       "9           10.0        90        3/20/2019         1/16/2019  \n",
       "10          10.0        90         4/2/2019         1/11/2019  "
      ]
     },
     "execution_count": 51,
     "metadata": {},
     "output_type": "execute_result"
    }
   ],
   "source": [
    "loan_f.head(10)"
   ]
  },
  {
   "cell_type": "code",
   "execution_count": 21,
   "id": "editorial-details",
   "metadata": {},
   "outputs": [],
   "source": [
    "loan_amount_av = loan_f[\"LoanAmount\"].mean()\n",
    "interest_rate_av = loan_f[\"InterestRate\"].mean().round(2)\n",
    "term_days_av = loan_f[\"TermDays\"].mean()"
   ]
  },
  {
   "cell_type": "code",
   "execution_count": 61,
   "id": "suitable-fellow",
   "metadata": {},
   "outputs": [
    {
     "name": "stdout",
     "output_type": "stream",
     "text": [
      "13828.08\n",
      "23.06\n",
      "42.075\n"
     ]
    }
   ],
   "source": [
    "print(loan_amount_av)\n",
    "print(interest_rate_av)\n",
    "print(term_days_av)"
   ]
  },
  {
   "cell_type": "code",
   "execution_count": 22,
   "id": "bigger-sustainability",
   "metadata": {},
   "outputs": [
    {
     "data": {
      "text/plain": [
       "customerID           0\n",
       "loanId               0\n",
       "applicationDate      0\n",
       "LoanNumber           0\n",
       "LoanAmount           0\n",
       "InterestRate         0\n",
       "TermDays             0\n",
       "repaymentDueDate     0\n",
       "repaymentPaidDate    0\n",
       "dtype: int64"
      ]
     },
     "execution_count": 22,
     "metadata": {},
     "output_type": "execute_result"
    }
   ],
   "source": [
    "loan_f.isnull().sum()"
   ]
  },
  {
   "cell_type": "code",
   "execution_count": 23,
   "id": "endangered-abortion",
   "metadata": {
    "ExecuteTime": {
     "end_time": "2021-04-29T11:08:08.271165Z",
     "start_time": "2021-04-29T11:08:08.229100Z"
    }
   },
   "outputs": [],
   "source": [
    "loan_f[\"repaymentPaidDate\"] = pd.to_datetime(loan_f[\"repaymentPaidDate\"]) "
   ]
  },
  {
   "cell_type": "code",
   "execution_count": 24,
   "id": "smaller-elephant",
   "metadata": {
    "ExecuteTime": {
     "end_time": "2021-04-29T11:08:14.168085Z",
     "start_time": "2021-04-29T11:08:14.130819Z"
    }
   },
   "outputs": [],
   "source": [
    "loan_f[\"repaymentDueDate\"] = pd.to_datetime(loan_f[\"repaymentDueDate\"])"
   ]
  },
  {
   "cell_type": "code",
   "execution_count": 25,
   "id": "processed-chart",
   "metadata": {
    "ExecuteTime": {
     "end_time": "2021-04-29T11:08:19.400615Z",
     "start_time": "2021-04-29T11:08:19.375842Z"
    }
   },
   "outputs": [],
   "source": [
    "diff_date = list(loan_f[\"repaymentDueDate\"] - loan_f[\"repaymentPaidDate\"] )"
   ]
  },
  {
   "cell_type": "code",
   "execution_count": 26,
   "id": "spare-beijing",
   "metadata": {},
   "outputs": [
    {
     "data": {
      "text/plain": [
       "1000"
      ]
     },
     "execution_count": 26,
     "metadata": {},
     "output_type": "execute_result"
    }
   ],
   "source": [
    "len(diff_date)"
   ]
  },
  {
   "cell_type": "code",
   "execution_count": 27,
   "id": "industrial-poverty",
   "metadata": {
    "ExecuteTime": {
     "end_time": "2021-04-29T11:08:24.410465Z",
     "start_time": "2021-04-29T11:08:24.391506Z"
    }
   },
   "outputs": [],
   "source": [
    "loan_f[\"DateDifference\"] = diff_date"
   ]
  },
  {
   "cell_type": "code",
   "execution_count": 14,
   "id": "czech-findings",
   "metadata": {
    "ExecuteTime": {
     "end_time": "2021-04-29T11:08:27.266946Z",
     "start_time": "2021-04-29T11:08:27.233269Z"
    }
   },
   "outputs": [
    {
     "data": {
      "text/html": [
       "<div>\n",
       "<style scoped>\n",
       "    .dataframe tbody tr th:only-of-type {\n",
       "        vertical-align: middle;\n",
       "    }\n",
       "\n",
       "    .dataframe tbody tr th {\n",
       "        vertical-align: top;\n",
       "    }\n",
       "\n",
       "    .dataframe thead th {\n",
       "        text-align: right;\n",
       "    }\n",
       "</style>\n",
       "<table border=\"1\" class=\"dataframe\">\n",
       "  <thead>\n",
       "    <tr style=\"text-align: right;\">\n",
       "      <th></th>\n",
       "      <th>customerID</th>\n",
       "      <th>loanId</th>\n",
       "      <th>applicationDate</th>\n",
       "      <th>LoanNumber</th>\n",
       "      <th>LoanAmount</th>\n",
       "      <th>InterestRate</th>\n",
       "      <th>TermDays</th>\n",
       "      <th>repaymentDueDate</th>\n",
       "      <th>repaymentPaidDate</th>\n",
       "      <th>DateDifference</th>\n",
       "    </tr>\n",
       "  </thead>\n",
       "  <tbody>\n",
       "    <tr>\n",
       "      <th>991</th>\n",
       "      <td>242227643</td>\n",
       "      <td>3.0188E+11</td>\n",
       "      <td>6/10/2018</td>\n",
       "      <td>2</td>\n",
       "      <td>7500</td>\n",
       "      <td>30.0</td>\n",
       "      <td>30</td>\n",
       "      <td>2018-07-10</td>\n",
       "      <td>2018-07-12</td>\n",
       "      <td>-2 days</td>\n",
       "    </tr>\n",
       "    <tr>\n",
       "      <th>992</th>\n",
       "      <td>78093608</td>\n",
       "      <td>3.02729E+11</td>\n",
       "      <td>11/9/2018</td>\n",
       "      <td>2</td>\n",
       "      <td>7500</td>\n",
       "      <td>30.0</td>\n",
       "      <td>30</td>\n",
       "      <td>2018-12-09</td>\n",
       "      <td>2018-11-30</td>\n",
       "      <td>9 days</td>\n",
       "    </tr>\n",
       "    <tr>\n",
       "      <th>993</th>\n",
       "      <td>63243799</td>\n",
       "      <td>302605265</td>\n",
       "      <td>1/8/2018</td>\n",
       "      <td>2</td>\n",
       "      <td>7500</td>\n",
       "      <td>30.0</td>\n",
       "      <td>30</td>\n",
       "      <td>2018-02-07</td>\n",
       "      <td>2018-02-06</td>\n",
       "      <td>1 days</td>\n",
       "    </tr>\n",
       "    <tr>\n",
       "      <th>994</th>\n",
       "      <td>704294322</td>\n",
       "      <td>302631540</td>\n",
       "      <td>1/14/2018</td>\n",
       "      <td>1</td>\n",
       "      <td>7500</td>\n",
       "      <td>30.0</td>\n",
       "      <td>30</td>\n",
       "      <td>2018-02-13</td>\n",
       "      <td>2018-02-05</td>\n",
       "      <td>8 days</td>\n",
       "    </tr>\n",
       "    <tr>\n",
       "      <th>995</th>\n",
       "      <td>144227648</td>\n",
       "      <td>302582780</td>\n",
       "      <td>1/2/2018</td>\n",
       "      <td>2</td>\n",
       "      <td>7500</td>\n",
       "      <td>30.0</td>\n",
       "      <td>30</td>\n",
       "      <td>2018-02-01</td>\n",
       "      <td>2018-02-02</td>\n",
       "      <td>-1 days</td>\n",
       "    </tr>\n",
       "    <tr>\n",
       "      <th>996</th>\n",
       "      <td>964510149</td>\n",
       "      <td>302636726</td>\n",
       "      <td>1/15/2018</td>\n",
       "      <td>2</td>\n",
       "      <td>7500</td>\n",
       "      <td>30.0</td>\n",
       "      <td>30</td>\n",
       "      <td>2018-02-14</td>\n",
       "      <td>2018-01-20</td>\n",
       "      <td>25 days</td>\n",
       "    </tr>\n",
       "    <tr>\n",
       "      <th>997</th>\n",
       "      <td>251997198</td>\n",
       "      <td>302772445</td>\n",
       "      <td>2/13/2018</td>\n",
       "      <td>1</td>\n",
       "      <td>7500</td>\n",
       "      <td>30.0</td>\n",
       "      <td>30</td>\n",
       "      <td>2018-03-15</td>\n",
       "      <td>2018-03-14</td>\n",
       "      <td>1 days</td>\n",
       "    </tr>\n",
       "    <tr>\n",
       "      <th>998</th>\n",
       "      <td>899011279</td>\n",
       "      <td>302585439</td>\n",
       "      <td>1/3/2018</td>\n",
       "      <td>3</td>\n",
       "      <td>7500</td>\n",
       "      <td>30.0</td>\n",
       "      <td>30</td>\n",
       "      <td>2018-02-02</td>\n",
       "      <td>2018-10-12</td>\n",
       "      <td>-252 days</td>\n",
       "    </tr>\n",
       "    <tr>\n",
       "      <th>999</th>\n",
       "      <td>648637210</td>\n",
       "      <td>3.02788E+11</td>\n",
       "      <td>11/19/2018</td>\n",
       "      <td>1</td>\n",
       "      <td>7500</td>\n",
       "      <td>30.0</td>\n",
       "      <td>30</td>\n",
       "      <td>2018-12-19</td>\n",
       "      <td>2018-12-17</td>\n",
       "      <td>2 days</td>\n",
       "    </tr>\n",
       "    <tr>\n",
       "      <th>1000</th>\n",
       "      <td>464788691</td>\n",
       "      <td>302683579</td>\n",
       "      <td>1/24/2018</td>\n",
       "      <td>1</td>\n",
       "      <td>7500</td>\n",
       "      <td>30.0</td>\n",
       "      <td>30</td>\n",
       "      <td>2018-02-24</td>\n",
       "      <td>2018-02-11</td>\n",
       "      <td>13 days</td>\n",
       "    </tr>\n",
       "  </tbody>\n",
       "</table>\n",
       "</div>"
      ],
      "text/plain": [
       "     customerID       loanId applicationDate  LoanNumber  LoanAmount  \\\n",
       "991   242227643   3.0188E+11       6/10/2018           2        7500   \n",
       "992    78093608  3.02729E+11       11/9/2018           2        7500   \n",
       "993    63243799    302605265        1/8/2018           2        7500   \n",
       "994   704294322    302631540       1/14/2018           1        7500   \n",
       "995   144227648    302582780        1/2/2018           2        7500   \n",
       "996   964510149    302636726       1/15/2018           2        7500   \n",
       "997   251997198    302772445       2/13/2018           1        7500   \n",
       "998   899011279    302585439        1/3/2018           3        7500   \n",
       "999   648637210  3.02788E+11      11/19/2018           1        7500   \n",
       "1000  464788691    302683579       1/24/2018           1        7500   \n",
       "\n",
       "      InterestRate  TermDays repaymentDueDate repaymentPaidDate DateDifference  \n",
       "991           30.0        30       2018-07-10        2018-07-12        -2 days  \n",
       "992           30.0        30       2018-12-09        2018-11-30         9 days  \n",
       "993           30.0        30       2018-02-07        2018-02-06         1 days  \n",
       "994           30.0        30       2018-02-13        2018-02-05         8 days  \n",
       "995           30.0        30       2018-02-01        2018-02-02        -1 days  \n",
       "996           30.0        30       2018-02-14        2018-01-20        25 days  \n",
       "997           30.0        30       2018-03-15        2018-03-14         1 days  \n",
       "998           30.0        30       2018-02-02        2018-10-12      -252 days  \n",
       "999           30.0        30       2018-12-19        2018-12-17         2 days  \n",
       "1000          30.0        30       2018-02-24        2018-02-11        13 days  "
      ]
     },
     "execution_count": 14,
     "metadata": {},
     "output_type": "execute_result"
    }
   ],
   "source": [
    "loan_f.tail(10)"
   ]
  },
  {
   "cell_type": "code",
   "execution_count": 133,
   "id": "handy-entrance",
   "metadata": {},
   "outputs": [
    {
     "name": "stdout",
     "output_type": "stream",
     "text": [
      "<class 'pandas.core.frame.DataFrame'>\n",
      "Int64Index: 1000 entries, 1 to 1000\n",
      "Data columns (total 10 columns):\n",
      " #   Column             Non-Null Count  Dtype          \n",
      "---  ------             --------------  -----          \n",
      " 0   customerID         1000 non-null   object         \n",
      " 1   loanId             1000 non-null   object         \n",
      " 2   applicationDate    1000 non-null   datetime64[ns] \n",
      " 3   LoanNumber         1000 non-null   int64          \n",
      " 4   LoanAmount         1000 non-null   int64          \n",
      " 5   InterestRate       1000 non-null   float64        \n",
      " 6   TermDays           1000 non-null   int64          \n",
      " 7   repaymentDueDate   1000 non-null   datetime64[ns] \n",
      " 8   repaymentPaidDate  1000 non-null   datetime64[ns] \n",
      " 9   DateDifference     1000 non-null   timedelta64[ns]\n",
      "dtypes: datetime64[ns](3), float64(1), int64(3), object(2), timedelta64[ns](1)\n",
      "memory usage: 85.9+ KB\n"
     ]
    }
   ],
   "source": [
    "loan_f.info()"
   ]
  },
  {
   "cell_type": "code",
   "execution_count": 66,
   "id": "equipped-sharp",
   "metadata": {
    "ExecuteTime": {
     "end_time": "2021-04-29T11:09:48.399630Z",
     "start_time": "2021-04-29T11:09:48.388547Z"
    }
   },
   "outputs": [],
   "source": [
    "after_3 = loan_f[(loan_f[\"DateDifference\"] < \"-3 days\")]"
   ]
  },
  {
   "cell_type": "code",
   "execution_count": 137,
   "id": "prepared-wrapping",
   "metadata": {
    "ExecuteTime": {
     "end_time": "2021-04-29T11:10:55.434030Z",
     "start_time": "2021-04-29T11:10:55.402913Z"
    }
   },
   "outputs": [],
   "source": [
    "##after_3.sort_values(by = \"DateDifference\")"
   ]
  },
  {
   "cell_type": "code",
   "execution_count": 126,
   "id": "dangerous-galaxy",
   "metadata": {},
   "outputs": [],
   "source": [
    "percent_3 = ((len(after_3 )/ len(loan_f.index))*100)"
   ]
  },
  {
   "cell_type": "code",
   "execution_count": 136,
   "id": "secondary-eating",
   "metadata": {},
   "outputs": [
    {
     "data": {
      "text/plain": [
       "14.5"
      ]
     },
     "execution_count": 136,
     "metadata": {},
     "output_type": "execute_result"
    }
   ],
   "source": [
    "round(percent_3, 1) ###percentage of loan paid af"
   ]
  },
  {
   "cell_type": "code",
   "execution_count": 85,
   "id": "removable-immunology",
   "metadata": {},
   "outputs": [
    {
     "data": {
      "text/plain": [
       "array([ 30,  90, 180,  45,  60, 120,  15])"
      ]
     },
     "execution_count": 85,
     "metadata": {},
     "output_type": "execute_result"
    }
   ],
   "source": [
    "loan_f[\"TermDays\"].unique()"
   ]
  },
  {
   "cell_type": "code",
   "execution_count": 90,
   "id": "mounted-detection",
   "metadata": {},
   "outputs": [
    {
     "name": "stdout",
     "output_type": "stream",
     "text": [
      "TermDays\n",
      "15      1274.0\n",
      "30      7942.0\n",
      "45     10706.0\n",
      "60     25711.0\n",
      "90     37673.0\n",
      "120    45056.0\n",
      "180    80988.0\n",
      "Name: LoanAmount, dtype: float64\n",
      "TermDays\n",
      "15      2886.0\n",
      "30      1606.0\n",
      "45      2346.0\n",
      "60     11560.0\n",
      "90     18050.0\n",
      "120    22193.0\n",
      "180    34612.0\n",
      "Name: LoanAmount, dtype: float64\n"
     ]
    }
   ],
   "source": [
    "grouped_term = loan_f.groupby(\"TermDays\")\n",
    "\n",
    "\n",
    "mean_data = grouped_term.mean().round()\n",
    "std_data = grouped_term.std().round()\n",
    "\n",
    "print(mean_data[\"LoanAmount\"])\n",
    "print(std_data[\"LoanAmount\"])"
   ]
  },
  {
   "cell_type": "code",
   "execution_count": 91,
   "id": "rotary-seminar",
   "metadata": {},
   "outputs": [],
   "source": [
    "# grouped_term.get_group(90)"
   ]
  },
  {
   "cell_type": "code",
   "execution_count": 93,
   "id": "antique-surveillance",
   "metadata": {},
   "outputs": [],
   "source": [
    "cust_frequent = loan_f[\"customerID\"].value_counts()"
   ]
  },
  {
   "cell_type": "code",
   "execution_count": 46,
   "id": "funded-berkeley",
   "metadata": {},
   "outputs": [],
   "source": [
    "cust_more_loan = cust_frequent.index.tolist()[0]  ##customer that applied for loans the most number of times"
   ]
  },
  {
   "cell_type": "code",
   "execution_count": 47,
   "id": "stopped-space",
   "metadata": {},
   "outputs": [
    {
     "data": {
      "text/plain": [
       "'686128144'"
      ]
     },
     "execution_count": 47,
     "metadata": {},
     "output_type": "execute_result"
    }
   ],
   "source": [
    "cust_more_loan"
   ]
  },
  {
   "cell_type": "code",
   "execution_count": 51,
   "id": "elementary-charger",
   "metadata": {},
   "outputs": [
    {
     "data": {
      "text/html": [
       "<div>\n",
       "<style scoped>\n",
       "    .dataframe tbody tr th:only-of-type {\n",
       "        vertical-align: middle;\n",
       "    }\n",
       "\n",
       "    .dataframe tbody tr th {\n",
       "        vertical-align: top;\n",
       "    }\n",
       "\n",
       "    .dataframe thead th {\n",
       "        text-align: right;\n",
       "    }\n",
       "</style>\n",
       "<table border=\"1\" class=\"dataframe\">\n",
       "  <thead>\n",
       "    <tr style=\"text-align: right;\">\n",
       "      <th></th>\n",
       "      <th>customerID</th>\n",
       "      <th>loanId</th>\n",
       "      <th>applicationDate</th>\n",
       "      <th>LoanNumber</th>\n",
       "      <th>LoanAmount</th>\n",
       "      <th>InterestRate</th>\n",
       "      <th>TermDays</th>\n",
       "      <th>repaymentDueDate</th>\n",
       "      <th>repaymentPaidDate</th>\n",
       "      <th>DateDifference</th>\n",
       "    </tr>\n",
       "  </thead>\n",
       "  <tbody>\n",
       "    <tr>\n",
       "      <th>1</th>\n",
       "      <td>839247458</td>\n",
       "      <td>3.02953E+11</td>\n",
       "      <td>12/21/2018</td>\n",
       "      <td>1</td>\n",
       "      <td>7500</td>\n",
       "      <td>30.0</td>\n",
       "      <td>30</td>\n",
       "      <td>2019-01-20</td>\n",
       "      <td>2019-01-16</td>\n",
       "      <td>4 days</td>\n",
       "    </tr>\n",
       "    <tr>\n",
       "      <th>2</th>\n",
       "      <td>217540860</td>\n",
       "      <td>3.0296E+11</td>\n",
       "      <td>12/23/2018</td>\n",
       "      <td>1</td>\n",
       "      <td>7500</td>\n",
       "      <td>30.0</td>\n",
       "      <td>30</td>\n",
       "      <td>2019-01-22</td>\n",
       "      <td>2018-12-29</td>\n",
       "      <td>24 days</td>\n",
       "    </tr>\n",
       "    <tr>\n",
       "      <th>3</th>\n",
       "      <td>522238092</td>\n",
       "      <td>3.03017E+11</td>\n",
       "      <td>1/8/2019</td>\n",
       "      <td>1</td>\n",
       "      <td>7500</td>\n",
       "      <td>30.0</td>\n",
       "      <td>30</td>\n",
       "      <td>2019-02-07</td>\n",
       "      <td>2019-01-08</td>\n",
       "      <td>30 days</td>\n",
       "    </tr>\n",
       "    <tr>\n",
       "      <th>4</th>\n",
       "      <td>96754469</td>\n",
       "      <td>3.03E+11</td>\n",
       "      <td>1/4/2019</td>\n",
       "      <td>1</td>\n",
       "      <td>7500</td>\n",
       "      <td>30.0</td>\n",
       "      <td>30</td>\n",
       "      <td>2019-02-03</td>\n",
       "      <td>2019-01-08</td>\n",
       "      <td>26 days</td>\n",
       "    </tr>\n",
       "    <tr>\n",
       "      <th>5</th>\n",
       "      <td>410354345</td>\n",
       "      <td>3.02952E+11</td>\n",
       "      <td>12/21/2018</td>\n",
       "      <td>1</td>\n",
       "      <td>7500</td>\n",
       "      <td>30.0</td>\n",
       "      <td>30</td>\n",
       "      <td>2019-01-20</td>\n",
       "      <td>2019-01-17</td>\n",
       "      <td>3 days</td>\n",
       "    </tr>\n",
       "  </tbody>\n",
       "</table>\n",
       "</div>"
      ],
      "text/plain": [
       "  customerID       loanId applicationDate  LoanNumber  LoanAmount  \\\n",
       "1  839247458  3.02953E+11      12/21/2018           1        7500   \n",
       "2  217540860   3.0296E+11      12/23/2018           1        7500   \n",
       "3  522238092  3.03017E+11        1/8/2019           1        7500   \n",
       "4   96754469     3.03E+11        1/4/2019           1        7500   \n",
       "5  410354345  3.02952E+11      12/21/2018           1        7500   \n",
       "\n",
       "   InterestRate  TermDays repaymentDueDate repaymentPaidDate DateDifference  \n",
       "1          30.0        30       2019-01-20        2019-01-16         4 days  \n",
       "2          30.0        30       2019-01-22        2018-12-29        24 days  \n",
       "3          30.0        30       2019-02-07        2019-01-08        30 days  \n",
       "4          30.0        30       2019-02-03        2019-01-08        26 days  \n",
       "5          30.0        30       2019-01-20        2019-01-17         3 days  "
      ]
     },
     "execution_count": 51,
     "metadata": {},
     "output_type": "execute_result"
    }
   ],
   "source": [
    "loan_f.head()"
   ]
  },
  {
   "cell_type": "code",
   "execution_count": null,
   "id": "funky-occupation",
   "metadata": {},
   "outputs": [],
   "source": []
  },
  {
   "cell_type": "code",
   "execution_count": 145,
   "id": "advanced-mongolia",
   "metadata": {},
   "outputs": [],
   "source": [
    "loan_afterduedate = loan_f[loan_f['DateDifference'] < \"0 days\"] ###filtered dataset for loans paid beyond their due date"
   ]
  },
  {
   "cell_type": "code",
   "execution_count": 146,
   "id": "informational-mobility",
   "metadata": {},
   "outputs": [],
   "source": [
    "##loan_afterduedate"
   ]
  },
  {
   "cell_type": "code",
   "execution_count": 143,
   "id": "existing-council",
   "metadata": {},
   "outputs": [],
   "source": [
    "days_after_due = loan_afterduedate[\"repaymentPaidDate\"].dt.isocalendar().day"
   ]
  },
  {
   "cell_type": "code",
   "execution_count": 144,
   "id": "sixth-petroleum",
   "metadata": {},
   "outputs": [
    {
     "data": {
      "text/plain": [
       "3.0"
      ]
     },
     "execution_count": 144,
     "metadata": {},
     "output_type": "execute_result"
    }
   ],
   "source": [
    "days_after_due.mean().round()  ###Average number of days that late loans were paid beyond their due date for each week of the year"
   ]
  },
  {
   "cell_type": "code",
   "execution_count": null,
   "id": "stuck-orlando",
   "metadata": {},
   "outputs": [],
   "source": []
  },
  {
   "cell_type": "code",
   "execution_count": 152,
   "id": "aquatic-distance",
   "metadata": {},
   "outputs": [
    {
     "data": {
      "text/plain": [
       "30.0    493\n",
       "15.0    208\n",
       "20.0     49\n",
       "12.5     46\n",
       "27.0     42\n",
       "10.0     33\n",
       "7.5      30\n",
       "36.0     26\n",
       "20.1     22\n",
       "5.0      21\n",
       "12.0      8\n",
       "19.8      7\n",
       "12.6      5\n",
       "18.0      5\n",
       "6.0       3\n",
       "9.9       1\n",
       "9.0       1\n",
       "Name: InterestRate, dtype: int64"
      ]
     },
     "execution_count": 152,
     "metadata": {},
     "output_type": "execute_result"
    }
   ],
   "source": [
    "loan_f[\"InterestRate\"].value_counts() ##Interest rate with the most number of application"
   ]
  },
  {
   "cell_type": "code",
   "execution_count": 160,
   "id": "middle-minnesota",
   "metadata": {},
   "outputs": [],
   "source": [
    "loan_f[\"applicationDate\"] = pd.to_datetime(loan_f[\"applicationDate\"])"
   ]
  },
  {
   "cell_type": "code",
   "execution_count": 161,
   "id": "sticky-calendar",
   "metadata": {},
   "outputs": [
    {
     "name": "stdout",
     "output_type": "stream",
     "text": [
      "<class 'pandas.core.frame.DataFrame'>\n",
      "Int64Index: 1000 entries, 1 to 1000\n",
      "Data columns (total 10 columns):\n",
      " #   Column             Non-Null Count  Dtype          \n",
      "---  ------             --------------  -----          \n",
      " 0   customerID         1000 non-null   object         \n",
      " 1   loanId             1000 non-null   object         \n",
      " 2   applicationDate    1000 non-null   datetime64[ns] \n",
      " 3   LoanNumber         1000 non-null   int64          \n",
      " 4   LoanAmount         1000 non-null   int64          \n",
      " 5   InterestRate       1000 non-null   float64        \n",
      " 6   TermDays           1000 non-null   int64          \n",
      " 7   repaymentDueDate   1000 non-null   datetime64[ns] \n",
      " 8   repaymentPaidDate  1000 non-null   datetime64[ns] \n",
      " 9   DateDifference     1000 non-null   timedelta64[ns]\n",
      "dtypes: datetime64[ns](3), float64(1), int64(3), object(2), timedelta64[ns](1)\n",
      "memory usage: 118.2+ KB\n"
     ]
    }
   ],
   "source": [
    "loan_f.info()"
   ]
  },
  {
   "cell_type": "code",
   "execution_count": 224,
   "id": "reflected-latter",
   "metadata": {},
   "outputs": [],
   "source": [
    "week_application = loan_f[\"applicationDate\"].dt.isocalendar().week.value_counts() "
   ]
  },
  {
   "cell_type": "code",
   "execution_count": 231,
   "id": "aboriginal-facial",
   "metadata": {},
   "outputs": [
    {
     "name": "stdout",
     "output_type": "stream",
     "text": [
      "51\n",
      "27\n"
     ]
    }
   ],
   "source": [
    "most_loan =week_application.index[0]##the week of the year that has the most loan application \n",
    "print(most_loan)\n",
    "least_loan = week_application.index[-1]##the week of the year that has the least loan application\n",
    "print(least_loan)"
   ]
  },
  {
   "cell_type": "code",
   "execution_count": 208,
   "id": "sticky-investing",
   "metadata": {},
   "outputs": [],
   "source": [
    "cust_num_times = loan_f[\"customerID\"].value_counts() "
   ]
  },
  {
   "cell_type": "code",
   "execution_count": 221,
   "id": "clear-arthur",
   "metadata": {},
   "outputs": [
    {
     "data": {
      "text/plain": [
       "12"
      ]
     },
     "execution_count": 221,
     "metadata": {},
     "output_type": "execute_result"
    }
   ],
   "source": [
    "(cust_num_times.values > 1).sum() ###Number of customers that applied for loans more than once"
   ]
  },
  {
   "cell_type": "code",
   "execution_count": null,
   "id": "sunset-gateway",
   "metadata": {},
   "outputs": [],
   "source": []
  },
  {
   "cell_type": "code",
   "execution_count": null,
   "id": "stupid-visit",
   "metadata": {},
   "outputs": [],
   "source": []
  },
  {
   "cell_type": "code",
   "execution_count": null,
   "id": "virgin-session",
   "metadata": {},
   "outputs": [],
   "source": []
  },
  {
   "cell_type": "code",
   "execution_count": null,
   "id": "operating-gibraltar",
   "metadata": {},
   "outputs": [],
   "source": []
  },
  {
   "cell_type": "code",
   "execution_count": null,
   "id": "different-greene",
   "metadata": {},
   "outputs": [],
   "source": []
  },
  {
   "cell_type": "code",
   "execution_count": null,
   "id": "clean-knock",
   "metadata": {},
   "outputs": [],
   "source": []
  },
  {
   "cell_type": "code",
   "execution_count": null,
   "id": "robust-gallery",
   "metadata": {},
   "outputs": [],
   "source": []
  },
  {
   "cell_type": "code",
   "execution_count": null,
   "id": "forty-sensitivity",
   "metadata": {},
   "outputs": [],
   "source": []
  },
  {
   "cell_type": "code",
   "execution_count": null,
   "id": "impressive-aside",
   "metadata": {},
   "outputs": [],
   "source": []
  },
  {
   "cell_type": "code",
   "execution_count": null,
   "id": "premier-diploma",
   "metadata": {},
   "outputs": [],
   "source": []
  },
  {
   "cell_type": "code",
   "execution_count": null,
   "id": "solid-scheme",
   "metadata": {},
   "outputs": [],
   "source": []
  },
  {
   "cell_type": "code",
   "execution_count": null,
   "id": "sporting-terror",
   "metadata": {},
   "outputs": [],
   "source": []
  },
  {
   "cell_type": "code",
   "execution_count": null,
   "id": "alternate-tackle",
   "metadata": {},
   "outputs": [],
   "source": []
  },
  {
   "cell_type": "code",
   "execution_count": null,
   "id": "signal-retention",
   "metadata": {},
   "outputs": [],
   "source": []
  },
  {
   "cell_type": "code",
   "execution_count": null,
   "id": "level-window",
   "metadata": {},
   "outputs": [],
   "source": []
  },
  {
   "cell_type": "code",
   "execution_count": null,
   "id": "designing-mounting",
   "metadata": {},
   "outputs": [],
   "source": []
  },
  {
   "cell_type": "code",
   "execution_count": null,
   "id": "welcome-ultimate",
   "metadata": {},
   "outputs": [],
   "source": []
  },
  {
   "cell_type": "code",
   "execution_count": null,
   "id": "passing-danish",
   "metadata": {},
   "outputs": [],
   "source": []
  },
  {
   "cell_type": "code",
   "execution_count": null,
   "id": "ancient-martin",
   "metadata": {},
   "outputs": [],
   "source": []
  },
  {
   "cell_type": "code",
   "execution_count": null,
   "id": "extra-wesley",
   "metadata": {},
   "outputs": [],
   "source": []
  }
 ],
 "metadata": {
  "kernelspec": {
   "display_name": "Python 3",
   "language": "python",
   "name": "python3"
  },
  "language_info": {
   "codemirror_mode": {
    "name": "ipython",
    "version": 3
   },
   "file_extension": ".py",
   "mimetype": "text/x-python",
   "name": "python",
   "nbconvert_exporter": "python",
   "pygments_lexer": "ipython3",
   "version": "3.9.1"
  },
  "toc": {
   "base_numbering": 1,
   "nav_menu": {},
   "number_sections": true,
   "sideBar": true,
   "skip_h1_title": false,
   "title_cell": "Table of Contents",
   "title_sidebar": "Contents",
   "toc_cell": false,
   "toc_position": {},
   "toc_section_display": true,
   "toc_window_display": false
  },
  "varInspector": {
   "cols": {
    "lenName": 16,
    "lenType": 16,
    "lenVar": 40
   },
   "kernels_config": {
    "python": {
     "delete_cmd_postfix": "",
     "delete_cmd_prefix": "del ",
     "library": "var_list.py",
     "varRefreshCmd": "print(var_dic_list())"
    },
    "r": {
     "delete_cmd_postfix": ") ",
     "delete_cmd_prefix": "rm(",
     "library": "var_list.r",
     "varRefreshCmd": "cat(var_dic_list()) "
    }
   },
   "types_to_exclude": [
    "module",
    "function",
    "builtin_function_or_method",
    "instance",
    "_Feature"
   ],
   "window_display": false
  }
 },
 "nbformat": 4,
 "nbformat_minor": 5
}
