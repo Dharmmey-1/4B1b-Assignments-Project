{
 "cells": [
  {
   "cell_type": "markdown",
   "id": "direct-treasury",
   "metadata": {},
   "source": [
    "### ASSIGNMENT"
   ]
  },
  {
   "cell_type": "code",
   "execution_count": 5,
   "id": "provincial-keyboard",
   "metadata": {},
   "outputs": [],
   "source": [
    "import numpy as np\n",
    "import pandas as pd"
   ]
  },
  {
   "cell_type": "code",
   "execution_count": 6,
   "id": "weighted-jacksonville",
   "metadata": {},
   "outputs": [],
   "source": [
    "#### concatenation \n",
    "file_list = []\n",
    "for i in range(1, 333):\n",
    "    if i < 10:\n",
    "        file_data = pd.read_csv(f\"C:/Users/DEMILADE SOMIDE/Data Science/lotofdata/00{i}.csv\")\n",
    "        \n",
    "    elif (i > 10 and i < 100) or i == 10:\n",
    "        file_data = pd.read_csv(f\"C:/Users/DEMILADE SOMIDE/Data Science/lotofdata/0{i}.csv\")\n",
    "        \n",
    "    elif i > 100 or i == 100:\n",
    "        file_data = pd.read_csv(f\"C:/Users/DEMILADE SOMIDE/Data Science/lotofdata/{i}.csv\")\n",
    "        \n",
    "    else:\n",
    "        pass\n",
    "    \n",
    "    file_list.append(file_data)\n",
    "    \n",
    "lotofdata = pd.concat(file_list, axis = 0, ignore_index = True)    "
   ]
  },
  {
   "cell_type": "code",
   "execution_count": 7,
   "id": "headed-powder",
   "metadata": {},
   "outputs": [
    {
     "data": {
      "text/plain": [
       "(772087, 4)"
      ]
     },
     "execution_count": 7,
     "metadata": {},
     "output_type": "execute_result"
    }
   ],
   "source": [
    "lotofdata.shape"
   ]
  },
  {
   "cell_type": "code",
   "execution_count": 109,
   "id": "frozen-insulation",
   "metadata": {},
   "outputs": [],
   "source": [
    "easter_data = pd.read_csv(\"application_data.csv\")"
   ]
  },
  {
   "cell_type": "code",
   "execution_count": 110,
   "id": "verbal-organization",
   "metadata": {},
   "outputs": [
    {
     "data": {
      "text/html": [
       "<div>\n",
       "<style scoped>\n",
       "    .dataframe tbody tr th:only-of-type {\n",
       "        vertical-align: middle;\n",
       "    }\n",
       "\n",
       "    .dataframe tbody tr th {\n",
       "        vertical-align: top;\n",
       "    }\n",
       "\n",
       "    .dataframe thead th {\n",
       "        text-align: right;\n",
       "    }\n",
       "</style>\n",
       "<table border=\"1\" class=\"dataframe\">\n",
       "  <thead>\n",
       "    <tr style=\"text-align: right;\">\n",
       "      <th></th>\n",
       "      <th>customerID</th>\n",
       "      <th>loanId</th>\n",
       "      <th>applicationDate</th>\n",
       "      <th>LoanNumber</th>\n",
       "      <th>LoanAmount</th>\n",
       "      <th>InterestRate</th>\n",
       "      <th>TermDays</th>\n",
       "      <th>repaymentDueDate</th>\n",
       "      <th>repaymentPaidDate</th>\n",
       "    </tr>\n",
       "  </thead>\n",
       "  <tbody>\n",
       "    <tr>\n",
       "      <th>0</th>\n",
       "      <td>839247458</td>\n",
       "      <td>3.02953E+11</td>\n",
       "      <td>12/21/2018</td>\n",
       "      <td>1</td>\n",
       "      <td>7500</td>\n",
       "      <td>30.0</td>\n",
       "      <td>30</td>\n",
       "      <td>1/20/2019</td>\n",
       "      <td>1/16/2019</td>\n",
       "    </tr>\n",
       "    <tr>\n",
       "      <th>1</th>\n",
       "      <td>217540860</td>\n",
       "      <td>3.0296E+11</td>\n",
       "      <td>12/23/2018</td>\n",
       "      <td>1</td>\n",
       "      <td>7500</td>\n",
       "      <td>30.0</td>\n",
       "      <td>30</td>\n",
       "      <td>1/22/2019</td>\n",
       "      <td>12/29/2018</td>\n",
       "    </tr>\n",
       "    <tr>\n",
       "      <th>2</th>\n",
       "      <td>522238092</td>\n",
       "      <td>3.03017E+11</td>\n",
       "      <td>1/8/2019</td>\n",
       "      <td>1</td>\n",
       "      <td>7500</td>\n",
       "      <td>30.0</td>\n",
       "      <td>30</td>\n",
       "      <td>2/7/2019</td>\n",
       "      <td>1/8/2019</td>\n",
       "    </tr>\n",
       "    <tr>\n",
       "      <th>3</th>\n",
       "      <td>96754469</td>\n",
       "      <td>3.03E+11</td>\n",
       "      <td>1/4/2019</td>\n",
       "      <td>1</td>\n",
       "      <td>7500</td>\n",
       "      <td>30.0</td>\n",
       "      <td>30</td>\n",
       "      <td>2/3/2019</td>\n",
       "      <td>1/8/2019</td>\n",
       "    </tr>\n",
       "    <tr>\n",
       "      <th>4</th>\n",
       "      <td>410354345</td>\n",
       "      <td>3.02952E+11</td>\n",
       "      <td>12/21/2018</td>\n",
       "      <td>1</td>\n",
       "      <td>7500</td>\n",
       "      <td>30.0</td>\n",
       "      <td>30</td>\n",
       "      <td>1/20/2019</td>\n",
       "      <td>1/17/2019</td>\n",
       "    </tr>\n",
       "  </tbody>\n",
       "</table>\n",
       "</div>"
      ],
      "text/plain": [
       "  customerID       loanId applicationDate  LoanNumber  LoanAmount  \\\n",
       "0  839247458  3.02953E+11      12/21/2018           1        7500   \n",
       "1  217540860   3.0296E+11      12/23/2018           1        7500   \n",
       "2  522238092  3.03017E+11        1/8/2019           1        7500   \n",
       "3   96754469     3.03E+11        1/4/2019           1        7500   \n",
       "4  410354345  3.02952E+11      12/21/2018           1        7500   \n",
       "\n",
       "   InterestRate  TermDays repaymentDueDate repaymentPaidDate  \n",
       "0          30.0        30        1/20/2019         1/16/2019  \n",
       "1          30.0        30        1/22/2019        12/29/2018  \n",
       "2          30.0        30         2/7/2019          1/8/2019  \n",
       "3          30.0        30         2/3/2019          1/8/2019  \n",
       "4          30.0        30        1/20/2019         1/17/2019  "
      ]
     },
     "execution_count": 110,
     "metadata": {},
     "output_type": "execute_result"
    }
   ],
   "source": [
    "easter_data.head()"
   ]
  },
  {
   "cell_type": "code",
   "execution_count": 111,
   "id": "combined-interest",
   "metadata": {},
   "outputs": [
    {
     "name": "stdout",
     "output_type": "stream",
     "text": [
      "13828.08\n",
      "42.075\n",
      "23.061700000000002\n"
     ]
    }
   ],
   "source": [
    "### AVERAGE LOAN AMOUNT, INTEREST RATE, TERM DAYS\n",
    "\n",
    "avg_loan_amount = easter_data[\"LoanAmount\"].mean()\n",
    "avg_term_days = easter_data[\"TermDays\"].mean()\n",
    "avg_interest_rate = easter_data[\"InterestRate\"].mean()\n",
    "\n",
    "print(avg_loan_amount)\n",
    "print(avg_term_days)\n",
    "print(avg_interest_rate)"
   ]
  },
  {
   "cell_type": "code",
   "execution_count": 112,
   "id": "residential-species",
   "metadata": {},
   "outputs": [],
   "source": [
    "from datetime import datetime as dt"
   ]
  },
  {
   "cell_type": "code",
   "execution_count": 113,
   "id": "altered-nurse",
   "metadata": {},
   "outputs": [],
   "source": [
    "easter_data[\"repaymentDueDate\"]  = easter_data[\"repaymentDueDate\"].apply(lambda x: dt.strptime(x, \"%m/%d/%Y\"))\n",
    "easter_data[\"repaymentPaidDate\"] = easter_data[\"repaymentPaidDate\"].apply(lambda x: dt.strptime(x, \"%m/%d/%Y\"))"
   ]
  },
  {
   "cell_type": "code",
   "execution_count": 114,
   "id": "bottom-turkish",
   "metadata": {},
   "outputs": [],
   "source": [
    "easter_data[\"dateDifference\"] = easter_data[\"repaymentDueDate\"] - easter_data[\"repaymentPaidDate\"]"
   ]
  },
  {
   "cell_type": "code",
   "execution_count": 115,
   "id": "together-quarter",
   "metadata": {},
   "outputs": [],
   "source": [
    "easter_data.set_index(pd.Index([num for num in range(1, len(easter_data) + 1)]), inplace = True)"
   ]
  },
  {
   "cell_type": "code",
   "execution_count": 116,
   "id": "electoral-rebound",
   "metadata": {},
   "outputs": [
    {
     "data": {
      "text/html": [
       "<div>\n",
       "<style scoped>\n",
       "    .dataframe tbody tr th:only-of-type {\n",
       "        vertical-align: middle;\n",
       "    }\n",
       "\n",
       "    .dataframe tbody tr th {\n",
       "        vertical-align: top;\n",
       "    }\n",
       "\n",
       "    .dataframe thead th {\n",
       "        text-align: right;\n",
       "    }\n",
       "</style>\n",
       "<table border=\"1\" class=\"dataframe\">\n",
       "  <thead>\n",
       "    <tr style=\"text-align: right;\">\n",
       "      <th></th>\n",
       "      <th>customerID</th>\n",
       "      <th>loanId</th>\n",
       "      <th>applicationDate</th>\n",
       "      <th>LoanNumber</th>\n",
       "      <th>LoanAmount</th>\n",
       "      <th>InterestRate</th>\n",
       "      <th>TermDays</th>\n",
       "      <th>repaymentDueDate</th>\n",
       "      <th>repaymentPaidDate</th>\n",
       "      <th>dateDifference</th>\n",
       "    </tr>\n",
       "  </thead>\n",
       "  <tbody>\n",
       "    <tr>\n",
       "      <th>1</th>\n",
       "      <td>839247458</td>\n",
       "      <td>3.02953E+11</td>\n",
       "      <td>12/21/2018</td>\n",
       "      <td>1</td>\n",
       "      <td>7500</td>\n",
       "      <td>30.0</td>\n",
       "      <td>30</td>\n",
       "      <td>2019-01-20</td>\n",
       "      <td>2019-01-16</td>\n",
       "      <td>4 days</td>\n",
       "    </tr>\n",
       "    <tr>\n",
       "      <th>2</th>\n",
       "      <td>217540860</td>\n",
       "      <td>3.0296E+11</td>\n",
       "      <td>12/23/2018</td>\n",
       "      <td>1</td>\n",
       "      <td>7500</td>\n",
       "      <td>30.0</td>\n",
       "      <td>30</td>\n",
       "      <td>2019-01-22</td>\n",
       "      <td>2018-12-29</td>\n",
       "      <td>24 days</td>\n",
       "    </tr>\n",
       "    <tr>\n",
       "      <th>3</th>\n",
       "      <td>522238092</td>\n",
       "      <td>3.03017E+11</td>\n",
       "      <td>1/8/2019</td>\n",
       "      <td>1</td>\n",
       "      <td>7500</td>\n",
       "      <td>30.0</td>\n",
       "      <td>30</td>\n",
       "      <td>2019-02-07</td>\n",
       "      <td>2019-01-08</td>\n",
       "      <td>30 days</td>\n",
       "    </tr>\n",
       "    <tr>\n",
       "      <th>4</th>\n",
       "      <td>96754469</td>\n",
       "      <td>3.03E+11</td>\n",
       "      <td>1/4/2019</td>\n",
       "      <td>1</td>\n",
       "      <td>7500</td>\n",
       "      <td>30.0</td>\n",
       "      <td>30</td>\n",
       "      <td>2019-02-03</td>\n",
       "      <td>2019-01-08</td>\n",
       "      <td>26 days</td>\n",
       "    </tr>\n",
       "    <tr>\n",
       "      <th>5</th>\n",
       "      <td>410354345</td>\n",
       "      <td>3.02952E+11</td>\n",
       "      <td>12/21/2018</td>\n",
       "      <td>1</td>\n",
       "      <td>7500</td>\n",
       "      <td>30.0</td>\n",
       "      <td>30</td>\n",
       "      <td>2019-01-20</td>\n",
       "      <td>2019-01-17</td>\n",
       "      <td>3 days</td>\n",
       "    </tr>\n",
       "    <tr>\n",
       "      <th>...</th>\n",
       "      <td>...</td>\n",
       "      <td>...</td>\n",
       "      <td>...</td>\n",
       "      <td>...</td>\n",
       "      <td>...</td>\n",
       "      <td>...</td>\n",
       "      <td>...</td>\n",
       "      <td>...</td>\n",
       "      <td>...</td>\n",
       "      <td>...</td>\n",
       "    </tr>\n",
       "    <tr>\n",
       "      <th>996</th>\n",
       "      <td>964510149</td>\n",
       "      <td>302636726</td>\n",
       "      <td>1/15/2018</td>\n",
       "      <td>2</td>\n",
       "      <td>7500</td>\n",
       "      <td>30.0</td>\n",
       "      <td>30</td>\n",
       "      <td>2018-02-14</td>\n",
       "      <td>2018-01-20</td>\n",
       "      <td>25 days</td>\n",
       "    </tr>\n",
       "    <tr>\n",
       "      <th>997</th>\n",
       "      <td>251997198</td>\n",
       "      <td>302772445</td>\n",
       "      <td>2/13/2018</td>\n",
       "      <td>1</td>\n",
       "      <td>7500</td>\n",
       "      <td>30.0</td>\n",
       "      <td>30</td>\n",
       "      <td>2018-03-15</td>\n",
       "      <td>2018-03-14</td>\n",
       "      <td>1 days</td>\n",
       "    </tr>\n",
       "    <tr>\n",
       "      <th>998</th>\n",
       "      <td>899011279</td>\n",
       "      <td>302585439</td>\n",
       "      <td>1/3/2018</td>\n",
       "      <td>3</td>\n",
       "      <td>7500</td>\n",
       "      <td>30.0</td>\n",
       "      <td>30</td>\n",
       "      <td>2018-02-02</td>\n",
       "      <td>2018-10-12</td>\n",
       "      <td>-252 days</td>\n",
       "    </tr>\n",
       "    <tr>\n",
       "      <th>999</th>\n",
       "      <td>648637210</td>\n",
       "      <td>3.02788E+11</td>\n",
       "      <td>11/19/2018</td>\n",
       "      <td>1</td>\n",
       "      <td>7500</td>\n",
       "      <td>30.0</td>\n",
       "      <td>30</td>\n",
       "      <td>2018-12-19</td>\n",
       "      <td>2018-12-17</td>\n",
       "      <td>2 days</td>\n",
       "    </tr>\n",
       "    <tr>\n",
       "      <th>1000</th>\n",
       "      <td>464788691</td>\n",
       "      <td>302683579</td>\n",
       "      <td>1/24/2018</td>\n",
       "      <td>1</td>\n",
       "      <td>7500</td>\n",
       "      <td>30.0</td>\n",
       "      <td>30</td>\n",
       "      <td>2018-02-24</td>\n",
       "      <td>2018-02-11</td>\n",
       "      <td>13 days</td>\n",
       "    </tr>\n",
       "  </tbody>\n",
       "</table>\n",
       "<p>1000 rows × 10 columns</p>\n",
       "</div>"
      ],
      "text/plain": [
       "     customerID       loanId applicationDate  LoanNumber  LoanAmount  \\\n",
       "1     839247458  3.02953E+11      12/21/2018           1        7500   \n",
       "2     217540860   3.0296E+11      12/23/2018           1        7500   \n",
       "3     522238092  3.03017E+11        1/8/2019           1        7500   \n",
       "4      96754469     3.03E+11        1/4/2019           1        7500   \n",
       "5     410354345  3.02952E+11      12/21/2018           1        7500   \n",
       "...         ...          ...             ...         ...         ...   \n",
       "996   964510149    302636726       1/15/2018           2        7500   \n",
       "997   251997198    302772445       2/13/2018           1        7500   \n",
       "998   899011279    302585439        1/3/2018           3        7500   \n",
       "999   648637210  3.02788E+11      11/19/2018           1        7500   \n",
       "1000  464788691    302683579       1/24/2018           1        7500   \n",
       "\n",
       "      InterestRate  TermDays repaymentDueDate repaymentPaidDate dateDifference  \n",
       "1             30.0        30       2019-01-20        2019-01-16         4 days  \n",
       "2             30.0        30       2019-01-22        2018-12-29        24 days  \n",
       "3             30.0        30       2019-02-07        2019-01-08        30 days  \n",
       "4             30.0        30       2019-02-03        2019-01-08        26 days  \n",
       "5             30.0        30       2019-01-20        2019-01-17         3 days  \n",
       "...            ...       ...              ...               ...            ...  \n",
       "996           30.0        30       2018-02-14        2018-01-20        25 days  \n",
       "997           30.0        30       2018-03-15        2018-03-14         1 days  \n",
       "998           30.0        30       2018-02-02        2018-10-12      -252 days  \n",
       "999           30.0        30       2018-12-19        2018-12-17         2 days  \n",
       "1000          30.0        30       2018-02-24        2018-02-11        13 days  \n",
       "\n",
       "[1000 rows x 10 columns]"
      ]
     },
     "execution_count": 116,
     "metadata": {},
     "output_type": "execute_result"
    }
   ],
   "source": [
    "easter_data"
   ]
  },
  {
   "cell_type": "code",
   "execution_count": 117,
   "id": "original-james",
   "metadata": {},
   "outputs": [
    {
     "data": {
      "text/html": [
       "<div>\n",
       "<style scoped>\n",
       "    .dataframe tbody tr th:only-of-type {\n",
       "        vertical-align: middle;\n",
       "    }\n",
       "\n",
       "    .dataframe tbody tr th {\n",
       "        vertical-align: top;\n",
       "    }\n",
       "\n",
       "    .dataframe thead th {\n",
       "        text-align: right;\n",
       "    }\n",
       "</style>\n",
       "<table border=\"1\" class=\"dataframe\">\n",
       "  <thead>\n",
       "    <tr style=\"text-align: right;\">\n",
       "      <th></th>\n",
       "      <th>LoanNumber</th>\n",
       "      <th>LoanAmount</th>\n",
       "      <th>InterestRate</th>\n",
       "      <th>TermDays</th>\n",
       "      <th>dateDifference</th>\n",
       "    </tr>\n",
       "  </thead>\n",
       "  <tbody>\n",
       "    <tr>\n",
       "      <th>count</th>\n",
       "      <td>183.000000</td>\n",
       "      <td>183.000000</td>\n",
       "      <td>183.000000</td>\n",
       "      <td>183.000000</td>\n",
       "      <td>183</td>\n",
       "    </tr>\n",
       "    <tr>\n",
       "      <th>mean</th>\n",
       "      <td>1.874317</td>\n",
       "      <td>6668.961749</td>\n",
       "      <td>27.923497</td>\n",
       "      <td>28.360656</td>\n",
       "      <td>-29 days +09:26:33.442622951</td>\n",
       "    </tr>\n",
       "    <tr>\n",
       "      <th>std</th>\n",
       "      <td>1.390923</td>\n",
       "      <td>2902.224708</td>\n",
       "      <td>5.141369</td>\n",
       "      <td>6.071097</td>\n",
       "      <td>39 days 03:45:18.814810026</td>\n",
       "    </tr>\n",
       "    <tr>\n",
       "      <th>min</th>\n",
       "      <td>1.000000</td>\n",
       "      <td>80.000000</td>\n",
       "      <td>15.000000</td>\n",
       "      <td>15.000000</td>\n",
       "      <td>-252 days +00:00:00</td>\n",
       "    </tr>\n",
       "    <tr>\n",
       "      <th>25%</th>\n",
       "      <td>1.000000</td>\n",
       "      <td>7500.000000</td>\n",
       "      <td>30.000000</td>\n",
       "      <td>30.000000</td>\n",
       "      <td>-36 days +00:00:00</td>\n",
       "    </tr>\n",
       "    <tr>\n",
       "      <th>50%</th>\n",
       "      <td>1.000000</td>\n",
       "      <td>7500.000000</td>\n",
       "      <td>30.000000</td>\n",
       "      <td>30.000000</td>\n",
       "      <td>-12 days +00:00:00</td>\n",
       "    </tr>\n",
       "    <tr>\n",
       "      <th>75%</th>\n",
       "      <td>2.000000</td>\n",
       "      <td>7500.000000</td>\n",
       "      <td>30.000000</td>\n",
       "      <td>30.000000</td>\n",
       "      <td>-4 days +00:00:00</td>\n",
       "    </tr>\n",
       "    <tr>\n",
       "      <th>max</th>\n",
       "      <td>12.000000</td>\n",
       "      <td>20500.000000</td>\n",
       "      <td>30.000000</td>\n",
       "      <td>60.000000</td>\n",
       "      <td>-1 days +00:00:00</td>\n",
       "    </tr>\n",
       "  </tbody>\n",
       "</table>\n",
       "</div>"
      ],
      "text/plain": [
       "       LoanNumber    LoanAmount  InterestRate    TermDays  \\\n",
       "count  183.000000    183.000000    183.000000  183.000000   \n",
       "mean     1.874317   6668.961749     27.923497   28.360656   \n",
       "std      1.390923   2902.224708      5.141369    6.071097   \n",
       "min      1.000000     80.000000     15.000000   15.000000   \n",
       "25%      1.000000   7500.000000     30.000000   30.000000   \n",
       "50%      1.000000   7500.000000     30.000000   30.000000   \n",
       "75%      2.000000   7500.000000     30.000000   30.000000   \n",
       "max     12.000000  20500.000000     30.000000   60.000000   \n",
       "\n",
       "                     dateDifference  \n",
       "count                           183  \n",
       "mean   -29 days +09:26:33.442622951  \n",
       "std      39 days 03:45:18.814810026  \n",
       "min             -252 days +00:00:00  \n",
       "25%              -36 days +00:00:00  \n",
       "50%              -12 days +00:00:00  \n",
       "75%               -4 days +00:00:00  \n",
       "max               -1 days +00:00:00  "
      ]
     },
     "execution_count": 117,
     "metadata": {},
     "output_type": "execute_result"
    }
   ],
   "source": [
    "easter_data.loc[easter_data[\"repaymentPaidDate\"] > easter_data[\"repaymentDueDate\"]].describe()"
   ]
  },
  {
   "cell_type": "code",
   "execution_count": 118,
   "id": "excessive-merit",
   "metadata": {},
   "outputs": [
    {
     "name": "stdout",
     "output_type": "stream",
     "text": [
      "18.3\n"
     ]
    }
   ],
   "source": [
    "### % OF LOANS PAID BEYOND DUE DATE\n",
    "\n",
    "loans_sum = easter_data[\"LoanAmount\"].sum()\n",
    "percentage_of_debtors = 183/1000 * 100\n",
    "print(percentage_of_debtors)\n",
    "\n",
    "            \n",
    "           "
   ]
  },
  {
   "cell_type": "code",
   "execution_count": 119,
   "id": "unable-scottish",
   "metadata": {},
   "outputs": [
    {
     "data": {
      "text/plain": [
       "14.5"
      ]
     },
     "execution_count": 119,
     "metadata": {},
     "output_type": "execute_result"
    }
   ],
   "source": [
    "### THE PERCENTAGE OF LOANS THAT WERE PAID BEYOND THREE DAY EXTENSION\n",
    "number = easter_data.loc[(easter_data[\"dateDifference\"] < \"-3 days\")].count()                 \n",
    "pecent_3days = number/1000 * 100\n",
    "percent_3days = pecent_3days[0]\n",
    "percent_3days.round(1)\n"
   ]
  },
  {
   "cell_type": "code",
   "execution_count": 120,
   "id": "conceptual-arthritis",
   "metadata": {
    "scrolled": true
   },
   "outputs": [
    {
     "name": "stdout",
     "output_type": "stream",
     "text": [
      "TermDays\n",
      "15      1274.088050\n",
      "30      7941.964286\n",
      "45     10706.250000\n",
      "60     25710.526316\n",
      "90     37672.727273\n",
      "120    45055.555556\n",
      "180    80988.095238\n",
      "Name: LoanAmount, dtype: float64\n",
      "TermDays\n",
      "15      2885.967406\n",
      "30      1606.039495\n",
      "45      2346.143820\n",
      "60     11559.646185\n",
      "90     18050.140602\n",
      "120    22192.966854\n",
      "180    34612.222587\n",
      "Name: LoanAmount, dtype: float64\n"
     ]
    }
   ],
   "source": [
    "### THE MEAN AND STD OF LOAN AMOUNT WITHIN EACH TERM DAYS \n",
    "easter_data[\"TermDays\"].unique()\n",
    "term_days = easter_data.groupby(\"TermDays\")\n",
    "all_mean = term_days.mean()\n",
    "all_std = term_days.std()\n",
    "print(all_mean[\"LoanAmount\"])\n",
    "print(all_std[\"LoanAmount\"])"
   ]
  },
  {
   "cell_type": "code",
   "execution_count": 121,
   "id": "bright-louisiana",
   "metadata": {},
   "outputs": [
    {
     "data": {
      "text/plain": [
       "3.0"
      ]
     },
     "execution_count": 121,
     "metadata": {},
     "output_type": "execute_result"
    }
   ],
   "source": [
    "### THE AVERAGE NUMBER OF DAYS LOANS WERE PAID OVERDUE FOR EACH WEEK\n",
    "debtors = easter_data.loc[easter_data[\"repaymentPaidDate\"] > easter_data[\"repaymentDueDate\"]]\n",
    "pd.to_datetime(debtors[\"repaymentPaidDate\"])\n",
    "days = debtors[\"repaymentPaidDate\"].dt.isocalendar().day\n",
    "days.mean().round()"
   ]
  },
  {
   "cell_type": "code",
   "execution_count": 122,
   "id": "activated-experiment",
   "metadata": {},
   "outputs": [
    {
     "data": {
      "text/plain": [
       "'686128144'"
      ]
     },
     "execution_count": 122,
     "metadata": {},
     "output_type": "execute_result"
    }
   ],
   "source": [
    "### CUSTOMERS ID THAT IS A SERIAL LENDER \n",
    "highest_loan_customer = easter_data[\"customerID\"].value_counts().index[0]\n",
    "highest_loan_customer"
   ]
  },
  {
   "cell_type": "code",
   "execution_count": 123,
   "id": "moderate-design",
   "metadata": {},
   "outputs": [
    {
     "data": {
      "text/plain": [
       "30.0"
      ]
     },
     "execution_count": 123,
     "metadata": {},
     "output_type": "execute_result"
    }
   ],
   "source": [
    "highest_loan_interest = easter_data[\"InterestRate\"].value_counts().index[0]\n",
    "highest_loan_interest"
   ]
  },
  {
   "cell_type": "code",
   "execution_count": 124,
   "id": "dependent-popularity",
   "metadata": {},
   "outputs": [],
   "source": [
    "easter_data[\"applicationDate\"] = easter_data[\"applicationDate\"].apply(lambda x: dt.strptime(x, \"%m/%d/%Y\"))"
   ]
  },
  {
   "cell_type": "code",
   "execution_count": 125,
   "id": "wrapped-declaration",
   "metadata": {},
   "outputs": [
    {
     "name": "stdout",
     "output_type": "stream",
     "text": [
      "51\n",
      "27\n"
     ]
    }
   ],
   "source": [
    "##### WEEK OF THE YEAR THAT HAS THE MOST LOAN\n",
    "most_loan_week = easter_data[\"applicationDate\"].dt.isocalendar().week.value_counts().index[0]\n",
    "least_loan_week = easter_data[\"applicationDate\"].dt.isocalendar().week.value_counts().index[-1]\n",
    "\n",
    "print(most_loan_week)\n",
    "print(least_loan_week)"
   ]
  },
  {
   "cell_type": "code",
   "execution_count": 126,
   "id": "detected-duplicate",
   "metadata": {},
   "outputs": [
    {
     "data": {
      "text/plain": [
       "686128144     4\n",
       "GH16140997    3\n",
       "GH56785851    2\n",
       "GH33548869    2\n",
       "597962950     2\n",
       "             ..\n",
       "836564384     1\n",
       "668181902     1\n",
       "862678552     1\n",
       "523018039     1\n",
       "434332650     1\n",
       "Name: customerID, Length: 985, dtype: int64"
      ]
     },
     "execution_count": 126,
     "metadata": {},
     "output_type": "execute_result"
    }
   ],
   "source": [
    "### THE NUMBER OF CUSTOMERS THAT APLLIED FOR LOANS MORE THAN ONCE\n",
    "highest_loan_customer = easter_data[\"customerID\"].value_counts()\n",
    "highest_loan_customer\n",
    "# highest_loan_customer.loc[highest_loan_customer > 1].count()\n"
   ]
  },
  {
   "cell_type": "code",
   "execution_count": null,
   "id": "indoor-drill",
   "metadata": {},
   "outputs": [],
   "source": []
  },
  {
   "cell_type": "code",
   "execution_count": null,
   "id": "military-leader",
   "metadata": {},
   "outputs": [],
   "source": []
  },
  {
   "cell_type": "code",
   "execution_count": null,
   "id": "south-journalism",
   "metadata": {},
   "outputs": [],
   "source": []
  },
  {
   "cell_type": "code",
   "execution_count": null,
   "id": "through-myanmar",
   "metadata": {},
   "outputs": [],
   "source": []
  },
  {
   "cell_type": "code",
   "execution_count": null,
   "id": "dynamic-reliance",
   "metadata": {},
   "outputs": [],
   "source": []
  },
  {
   "cell_type": "code",
   "execution_count": null,
   "id": "juvenile-mailing",
   "metadata": {},
   "outputs": [],
   "source": []
  },
  {
   "cell_type": "code",
   "execution_count": null,
   "id": "recognized-newspaper",
   "metadata": {},
   "outputs": [],
   "source": []
  },
  {
   "cell_type": "code",
   "execution_count": null,
   "id": "operational-checklist",
   "metadata": {},
   "outputs": [],
   "source": []
  },
  {
   "cell_type": "code",
   "execution_count": null,
   "id": "communist-ministry",
   "metadata": {},
   "outputs": [],
   "source": []
  },
  {
   "cell_type": "code",
   "execution_count": null,
   "id": "civil-vacation",
   "metadata": {},
   "outputs": [],
   "source": []
  },
  {
   "cell_type": "code",
   "execution_count": null,
   "id": "experimental-sphere",
   "metadata": {},
   "outputs": [],
   "source": []
  },
  {
   "cell_type": "code",
   "execution_count": null,
   "id": "married-decision",
   "metadata": {},
   "outputs": [],
   "source": []
  },
  {
   "cell_type": "code",
   "execution_count": null,
   "id": "alpha-choir",
   "metadata": {},
   "outputs": [],
   "source": []
  },
  {
   "cell_type": "code",
   "execution_count": null,
   "id": "statewide-phase",
   "metadata": {},
   "outputs": [],
   "source": []
  },
  {
   "cell_type": "code",
   "execution_count": null,
   "id": "earlier-fighter",
   "metadata": {},
   "outputs": [],
   "source": []
  },
  {
   "cell_type": "code",
   "execution_count": null,
   "id": "coordinated-bradford",
   "metadata": {},
   "outputs": [],
   "source": []
  },
  {
   "cell_type": "code",
   "execution_count": null,
   "id": "apparent-graduate",
   "metadata": {},
   "outputs": [],
   "source": []
  },
  {
   "cell_type": "code",
   "execution_count": null,
   "id": "rational-interpretation",
   "metadata": {},
   "outputs": [],
   "source": []
  },
  {
   "cell_type": "code",
   "execution_count": null,
   "id": "hindu-burner",
   "metadata": {},
   "outputs": [],
   "source": []
  },
  {
   "cell_type": "code",
   "execution_count": null,
   "id": "monthly-advocacy",
   "metadata": {},
   "outputs": [],
   "source": []
  }
 ],
 "metadata": {
  "kernelspec": {
   "display_name": "Python 3",
   "language": "python",
   "name": "python3"
  },
  "language_info": {
   "codemirror_mode": {
    "name": "ipython",
    "version": 3
   },
   "file_extension": ".py",
   "mimetype": "text/x-python",
   "name": "python",
   "nbconvert_exporter": "python",
   "pygments_lexer": "ipython3",
   "version": "3.7.9"
  }
 },
 "nbformat": 4,
 "nbformat_minor": 5
}
